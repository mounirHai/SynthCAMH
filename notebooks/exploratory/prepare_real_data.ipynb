{
 "cells": [
  {
   "cell_type": "code",
   "execution_count": 181,
   "id": "8049a379",
   "metadata": {},
   "outputs": [],
   "source": [
    "#import sweetviz as sv\n",
    "import pandas as pd\n",
    "#import dtale\n",
    "import numpy as np\n",
    "from sdmetrics.reports.multi_table import QualityReport\n",
    "%matplotlib inline\n",
    "\n",
    "\n",
    "import os\n",
    "import json\n",
    "\n",
    "#from pandas.io.json import json_normalize\n",
    "from datetime import datetime \n",
    "from tqdm import tqdm\n",
    "from sklearn.preprocessing import PowerTransformer\n",
    "#import umap.umap_ as umap\n",
    "#import umap.plot\n",
    "import matplotlib.pyplot as plt\n",
    "import plotly.graph_objects as go\n",
    "from scipy import stats\n",
    "\n",
    "from sklearn.cluster import KMeans\n",
    "from kmodes.kprototypes import KPrototypes\n",
    "\n",
    "from functions import condense_category#,cluster_profile\n",
    "\n",
    "#from lightgbm import LGBMClassifier\n",
    "#import shap\n",
    "from sklearn.model_selection import cross_val_score\n",
    "import seaborn as sns\n",
    "import warnings\n",
    "with warnings.catch_warnings():\n",
    "    warnings.simplefilter(\"ignore\")\n",
    "pd.set_option('display.max_columns', None)\n",
    "import logging\n",
    "logging.getLogger('matplotlib.font_manager').disabled = True"
   ]
  },
  {
   "cell_type": "code",
   "execution_count": 182,
   "id": "4c2896ae-853b-41d4-8262-935484db8cbe",
   "metadata": {},
   "outputs": [
    {
     "data": {
      "text/html": [
       "<div>\n",
       "<style scoped>\n",
       "    .dataframe tbody tr th:only-of-type {\n",
       "        vertical-align: middle;\n",
       "    }\n",
       "\n",
       "    .dataframe tbody tr th {\n",
       "        vertical-align: top;\n",
       "    }\n",
       "\n",
       "    .dataframe thead th {\n",
       "        text-align: right;\n",
       "    }\n",
       "</style>\n",
       "<table border=\"1\" class=\"dataframe\">\n",
       "  <thead>\n",
       "    <tr style=\"text-align: right;\">\n",
       "      <th></th>\n",
       "      <th>KodeID</th>\n",
       "      <th>Niva0ID</th>\n",
       "      <th>Niva1ID</th>\n",
       "    </tr>\n",
       "  </thead>\n",
       "  <tbody>\n",
       "    <tr>\n",
       "      <th>0</th>\n",
       "      <td>5000</td>\n",
       "      <td>5000</td>\n",
       "      <td>5000</td>\n",
       "    </tr>\n",
       "    <tr>\n",
       "      <th>1</th>\n",
       "      <td>5999</td>\n",
       "      <td>5999</td>\n",
       "      <td>5999</td>\n",
       "    </tr>\n",
       "    <tr>\n",
       "      <th>2</th>\n",
       "      <td>1.0</td>\n",
       "      <td>Z62</td>\n",
       "      <td>Z55-Z65</td>\n",
       "    </tr>\n",
       "    <tr>\n",
       "      <th>3</th>\n",
       "      <td>1</td>\n",
       "      <td>Z62</td>\n",
       "      <td>Z55-Z65</td>\n",
       "    </tr>\n",
       "    <tr>\n",
       "      <th>4</th>\n",
       "      <td>1.1</td>\n",
       "      <td>Z63</td>\n",
       "      <td>Z55-Z65</td>\n",
       "    </tr>\n",
       "  </tbody>\n",
       "</table>\n",
       "</div>"
      ],
      "text/plain": [
       "  KodeID Niva0ID  Niva1ID\n",
       "0   5000    5000     5000\n",
       "1   5999    5999     5999\n",
       "2    1.0     Z62  Z55-Z65\n",
       "3      1     Z62  Z55-Z65\n",
       "4    1.1     Z63  Z55-Z65"
      ]
     },
     "execution_count": 182,
     "metadata": {},
     "output_type": "execute_result"
    }
   ],
   "source": [
    "\n",
    "df_Akse5koder = pd.read_csv(\"../../data/external/PHBUAkse5.csv\",sep='\\t' )\n",
    "df_Akse5koder.head(5)"
   ]
  },
  {
   "cell_type": "code",
   "execution_count": 183,
   "id": "dcb010d7",
   "metadata": {},
   "outputs": [
    {
     "name": "stdout",
     "output_type": "stream",
     "text": [
      "<class 'pandas.core.frame.DataFrame'>\n",
      "RangeIndex: 21956 entries, 0 to 21955\n",
      "Data columns (total 16 columns):\n",
      " #   Column       Non-Null Count  Dtype  \n",
      "---  ------       --------------  -----  \n",
      " 0   KodeID       21956 non-null  object \n",
      " 1   KodeNavn     21955 non-null  object \n",
      " 2   Tekst        21955 non-null  object \n",
      " 3   Niva0ID      21956 non-null  object \n",
      " 4   Niva0Navn    21956 non-null  object \n",
      " 5   Niva0SortID  397 non-null    float64\n",
      " 6   Niva1ID      21933 non-null  object \n",
      " 7   Niva1Navn    21933 non-null  object \n",
      " 8   Niva2ID      21683 non-null  object \n",
      " 9   Niva2Navn    21683 non-null  object \n",
      " 10  Niva3ID      21678 non-null  object \n",
      " 11  Niva3Navn    21677 non-null  object \n",
      " 12  Niva4ID      21660 non-null  object \n",
      " 13  Niva4Navn    21660 non-null  object \n",
      " 14  MNiva        21944 non-null  float64\n",
      " 15  LasteSeq     390 non-null    float64\n",
      "dtypes: float64(3), object(13)\n",
      "memory usage: 2.7+ MB\n"
     ]
    }
   ],
   "source": [
    "\n",
    "df_icd10Kapittel = pd.read_csv(\"../../data/external/ICD10Kapittel.csv\",sep='\\t' \n",
    " )\n",
    "df_icd10Kapittel.info()"
   ]
  },
  {
   "cell_type": "code",
   "execution_count": 184,
   "id": "cdfdf35b",
   "metadata": {},
   "outputs": [
    {
     "name": "stdout",
     "output_type": "stream",
     "text": [
      "<class 'pandas.core.frame.DataFrame'>\n",
      "RangeIndex: 73134 entries, 0 to 73133\n",
      "Data columns (total 47 columns):\n",
      " #   Column                Non-Null Count  Dtype         \n",
      "---  ------                --------------  -----         \n",
      " 0   episode_order         73134 non-null  int64         \n",
      " 1   henvisningsperiodeID  73134 non-null  int64         \n",
      " 2   episodeID             73134 non-null  int64         \n",
      " 3   innDatoTid            73134 non-null  datetime64[ns]\n",
      " 4   utDatoTid             73134 non-null  datetime64[ns]\n",
      " 5   ReshID_Avdeling       73134 non-null  int64         \n",
      " 6   ReshID_Seksjon        73134 non-null  int64         \n",
      " 7   kontaktType           73134 non-null  int64         \n",
      " 8   polUtforende          73134 non-null  int64         \n",
      " 9   spesialist            73134 non-null  int64         \n",
      " 10  rolle                 73134 non-null  int64         \n",
      " 11  tilst1akse1           72589 non-null  object        \n",
      " 12  tilst2akse1           26325 non-null  object        \n",
      " 13  tilst3akse1           6823 non-null   object        \n",
      " 14  tilst4akse1           1746 non-null   object        \n",
      " 15  tilst5akse1           386 non-null    object        \n",
      " 16  tilst6akse1           105 non-null    object        \n",
      " 17  tilst1akse2           31841 non-null  object        \n",
      " 18  tilst2akse2           3207 non-null   object        \n",
      " 19  tilst3akse2           304 non-null    object        \n",
      " 20  tilst4akse2           27 non-null     object        \n",
      " 21  tilst5akse2           17 non-null     object        \n",
      " 22  tilst6akse2           0 non-null      float64       \n",
      " 23  tilst1akse3           32542 non-null  object        \n",
      " 24  tilst2akse3           1716 non-null   object        \n",
      " 25  tilst3akse3           92 non-null     object        \n",
      " 26  tilst4akse3           12 non-null     object        \n",
      " 27  tilst5akse3           0 non-null      float64       \n",
      " 28  tilst6akse3           0 non-null      float64       \n",
      " 29  tilst1akse4           29736 non-null  object        \n",
      " 30  tilst2akse4           1861 non-null   object        \n",
      " 31  tilst3akse4           138 non-null    object        \n",
      " 32  tilst4akse4           37 non-null     object        \n",
      " 33  tilst5akse4           18 non-null     object        \n",
      " 34  tilst6akse4           15 non-null     object        \n",
      " 35  tilst1akse5           30655 non-null  object        \n",
      " 36  tilst2akse5           8193 non-null   object        \n",
      " 37  tilst3akse5           3526 non-null   object        \n",
      " 38  tilst4akse5           1356 non-null   object        \n",
      " 39  tilst5akse5           700 non-null    object        \n",
      " 40  tilst6akse5           353 non-null    object        \n",
      " 41  tilst1akse6           35198 non-null  float64       \n",
      " 42  tilst2akse6           3482 non-null   float64       \n",
      " 43  tilst3akse6           220 non-null    float64       \n",
      " 44  tilst4akse6           37 non-null     float64       \n",
      " 45  tilst5akse6           15 non-null     float64       \n",
      " 46  tilst6akse6           13 non-null     float64       \n",
      "dtypes: datetime64[ns](2), float64(9), int64(9), object(27)\n",
      "memory usage: 26.2+ MB\n"
     ]
    }
   ],
   "source": [
    "episode_cat =[  'ReshID_Avdeling'\n",
    ", 'ReshID_Seksjon'  \n",
    "\n",
    ", 'polUtforende'\n",
    "  #    ,'spesialist'\n",
    "      ,'rolle'\n",
    "\n",
    ",'kontaktType'            \n",
    "\n",
    "# Akse 1\n",
    ", 'tilst1akse1'\n",
    "#, 'tilst1akse1_kodeverk'\n",
    ", 'tilst2akse1'\n",
    "#, 'tilst2akse1_kodeverk'\n",
    ", 'tilst3akse1'\n",
    "#, 'tilst3akse1_kodeverk'\n",
    ", 'tilst4akse1'\n",
    "#, 'tilst4akse1_kodeverk'\n",
    ", 'tilst5akse1'\n",
    "#, 'tilst5akse1_kodeverk'\n",
    "\n",
    ", 'tilst6akse1'\n",
    "\n",
    "    \n",
    "# Akse 2\n",
    ", 'tilst1akse2'\n",
    "#, 'tilst1akse1_kodeverk'\n",
    ", 'tilst2akse2'\n",
    "#, 'tilst2akse1_kodeverk'\n",
    ", 'tilst3akse2'\n",
    "#, 'tilst3akse1_kodeverk'\n",
    ", 'tilst4akse2'\n",
    "#, 'tilst4akse1_kodeverk'\n",
    ", 'tilst5akse2'\n",
    "#, 'tilst5akse1_kodeverk'\n",
    "\n",
    ", 'tilst6akse2'\n",
    "    \n",
    "    \n",
    "# Akse 3\n",
    ", 'tilst1akse3'\n",
    "#, 'tilst1akse1_kodeverk'\n",
    ", 'tilst2akse3'\n",
    "#, 'tilst2akse1_kodeverk'\n",
    ", 'tilst3akse3'\n",
    "#, 'tilst3akse1_kodeverk'\n",
    ", 'tilst4akse3'\n",
    "#, 'tilst4akse1_kodeverk'\n",
    ", 'tilst5akse3'\n",
    "#, 'tilst5akse1_kodeverk'\n",
    "\n",
    ", 'tilst6akse3'\n",
    "    \n",
    "    \n",
    "# Akse 4\n",
    ", 'tilst1akse4'\n",
    "#, 'tilst1akse1_kodeverk'\n",
    ", 'tilst2akse4'\n",
    "#, 'tilst2akse1_kodeverk'\n",
    ", 'tilst3akse4'\n",
    "#, 'tilst3akse1_kodeverk'\n",
    ", 'tilst4akse4'\n",
    "#, 'tilst4akse1_kodeverk'\n",
    ", 'tilst5akse4'\n",
    "#, 'tilst5akse1_kodeverk'\n",
    ", 'tilst6akse4'\n",
    "    \n",
    "    \n",
    "# Akse 5\n",
    ", 'tilst1akse5'\n",
    "#, 'tilst1akse1_kodeverk'\n",
    ", 'tilst2akse5'\n",
    "#, 'tilst2akse1_kodeverk'\n",
    ", 'tilst3akse5'\n",
    "#, 'tilst3akse1_kodeverk'\n",
    ", 'tilst4akse5'\n",
    "#, 'tilst4akse1_kodeverk'\n",
    ", 'tilst5akse5'\n",
    "#, 'tilst5akse1_kodeverk'\n",
    ", 'tilst6akse5'\n",
    "    \n",
    "    \n",
    "# Akse 6\n",
    ", 'tilst1akse6'\n",
    "#, 'tilst1akse1_kodeverk'\n",
    ", 'tilst2akse6'\n",
    "#, 'tilst2akse1_kodeverk'\n",
    ", 'tilst3akse6'\n",
    "#, 'tilst3akse1_kodeverk'\n",
    ", 'tilst4akse6'\n",
    "#, 'tilst4akse1_kodeverk'\n",
    ", 'tilst5akse6'\n",
    "#, 'tilst5akse1_kodeverk'\n",
    ", 'tilst6akse6'             \n",
    "            \n",
    "]\n",
    "episode_col =[  \n",
    "    'episode_order'\n",
    "            \n",
    ",'episodeID' \n",
    " ,'henvisningsperiodeID'\n",
    "              \n",
    "\n",
    ", 'ReshID_Avdeling'\n",
    ", 'ReshID_Seksjon'  \n",
    "\n",
    "\n",
    ",'innDatoTid'\n",
    ",'utDatoTid'\n",
    ",'kontaktType'            \n",
    ", 'polUtforende'\n",
    "     ,'spesialist'\n",
    "      ,'rolle'\n",
    "\n",
    "# Akse 1\n",
    ", 'tilst1akse1'\n",
    "#, 'tilst1akse1_kodeverk'\n",
    ", 'tilst2akse1'\n",
    "#, 'tilst2akse1_kodeverk'\n",
    ", 'tilst3akse1'\n",
    "#, 'tilst3akse1_kodeverk'\n",
    ", 'tilst4akse1'\n",
    "#, 'tilst4akse1_kodeverk'\n",
    ", 'tilst5akse1'\n",
    "#, 'tilst5akse1_kodeverk'\n",
    "\n",
    ", 'tilst6akse1'\n",
    "\n",
    "    \n",
    "# Akse 2\n",
    ", 'tilst1akse2'\n",
    "#, 'tilst1akse1_kodeverk'\n",
    ", 'tilst2akse2'\n",
    "#, 'tilst2akse1_kodeverk'\n",
    ", 'tilst3akse2'\n",
    "#, 'tilst3akse1_kodeverk'\n",
    ", 'tilst4akse2'\n",
    "#, 'tilst4akse1_kodeverk'\n",
    ", 'tilst5akse2'\n",
    "#, 'tilst5akse1_kodeverk'\n",
    "\n",
    ", 'tilst6akse2'\n",
    "    \n",
    "    \n",
    "# Akse 3\n",
    ", 'tilst1akse3'\n",
    "#, 'tilst1akse1_kodeverk'\n",
    ", 'tilst2akse3'\n",
    "#, 'tilst2akse1_kodeverk'\n",
    ", 'tilst3akse3'\n",
    "#, 'tilst3akse1_kodeverk'\n",
    ", 'tilst4akse3'\n",
    "#, 'tilst4akse1_kodeverk'\n",
    ", 'tilst5akse3'\n",
    "#, 'tilst5akse1_kodeverk'\n",
    "\n",
    ", 'tilst6akse3'\n",
    "    \n",
    "    \n",
    "# Akse 4\n",
    ", 'tilst1akse4'\n",
    "#, 'tilst1akse1_kodeverk'\n",
    ", 'tilst2akse4'\n",
    "#, 'tilst2akse1_kodeverk'\n",
    ", 'tilst3akse4'\n",
    "#, 'tilst3akse1_kodeverk'\n",
    ", 'tilst4akse4'\n",
    "#, 'tilst4akse1_kodeverk'\n",
    ", 'tilst5akse4'\n",
    "#, 'tilst5akse1_kodeverk'\n",
    ", 'tilst6akse4'\n",
    "    \n",
    "    \n",
    "# Akse 5\n",
    ", 'tilst1akse5'\n",
    "#, 'tilst1akse1_kodeverk'\n",
    ", 'tilst2akse5'\n",
    "#, 'tilst2akse1_kodeverk'\n",
    ", 'tilst3akse5'\n",
    "#, 'tilst3akse1_kodeverk'\n",
    ", 'tilst4akse5'\n",
    "#, 'tilst4akse1_kodeverk'\n",
    ", 'tilst5akse5'\n",
    "#, 'tilst5akse1_kodeverk'\n",
    ", 'tilst6akse5'\n",
    "    \n",
    "    \n",
    "# Akse 6\n",
    ", 'tilst1akse6'\n",
    "#, 'tilst1akse1_kodeverk'\n",
    ", 'tilst2akse6'\n",
    "#, 'tilst2akse1_kodeverk'\n",
    ", 'tilst3akse6'\n",
    "#, 'tilst3akse1_kodeverk'\n",
    ", 'tilst4akse6'\n",
    "#, 'tilst4akse1_kodeverk'\n",
    ", 'tilst5akse6'\n",
    "#, 'tilst5akse1_kodeverk'\n",
    ", 'tilst6akse6'\n",
    "\n",
    "]\n",
    "\n",
    "df_episode = pd.read_csv(\"../../data/raw/episode.csv\",sep='\\t'  ,low_memory=False\n",
    "                    ,parse_dates=['innDatoTid','utDatoTid'],\n",
    "  dtype=\n",
    "                 \n",
    "                 { 'episode_order':'int'\n",
    ", 'episodeid' : 'int'        \n",
    ", 'henvisningsperiodeID': 'int'\n",
    "            \n",
    "\n",
    "\n",
    "  \n",
    "                     \n",
    "\n",
    "\n",
    "                 },usecols =episode_col\n",
    "                  )\n",
    "df_episode.info()"
   ]
  },
  {
   "cell_type": "code",
   "execution_count": 185,
   "id": "952e04b1",
   "metadata": {},
   "outputs": [
    {
     "name": "stdout",
     "output_type": "stream",
     "text": [
      "<class 'pandas.core.frame.DataFrame'>\n",
      "RangeIndex: 7730 entries, 0 to 7729\n",
      "Data columns (total 4 columns):\n",
      " #   Column                Non-Null Count  Dtype         \n",
      "---  ------                --------------  -----         \n",
      " 0   pasientNr             7730 non-null   int64         \n",
      " 1   henvisningsperiodeID  7730 non-null   int64         \n",
      " 2   sluttDato             7730 non-null   datetime64[ns]\n",
      " 3   ansienDato            7730 non-null   datetime64[ns]\n",
      "dtypes: datetime64[ns](2), int64(2)\n",
      "memory usage: 241.7 KB\n"
     ]
    }
   ],
   "source": [
    "\n",
    "henv_col =['henvisningsperiodeID'  ,'pasientNr'\n",
    "          ,'ansienDato','sluttDato'\n",
    "               \n",
    "#, 'henvFraInstitusjonID'\n",
    "          ]\n",
    "\n",
    "\n",
    "df_henvisningsperiode = pd.read_csv(\"../../data/raw/henvisningsperiode.csv\",sep='\\t' ,parse_dates=['ansienDato','sluttDato'],\n",
    "  dtype=\n",
    "                 \n",
    "                 {'henv_order':'int'\n",
    "   \n",
    " ,'henvisningsperiodeID': 'int'\n",
    " ,'alder'  : 'int'                 \n",
    "    ,'kjonn'  : 'object'                  \n",
    "\n",
    "                 },usecols =henv_col)\n",
    "df_henvisningsperiode.info()"
   ]
  },
  {
   "cell_type": "code",
   "execution_count": 186,
   "id": "de7a66a5-f801-4d18-b3a8-940f7babb22f",
   "metadata": {},
   "outputs": [
    {
     "name": "stdout",
     "output_type": "stream",
     "text": [
      "<class 'pandas.core.frame.DataFrame'>\n",
      "RangeIndex: 6924 entries, 0 to 6923\n",
      "Data columns (total 3 columns):\n",
      " #   Column     Non-Null Count  Dtype \n",
      "---  ------     --------------  ----- \n",
      " 0   pasientNr  6924 non-null   int64 \n",
      " 1   alder      6924 non-null   int64 \n",
      " 2   kjonn      6924 non-null   object\n",
      "dtypes: int64(2), object(1)\n",
      "memory usage: 162.4+ KB\n"
     ]
    }
   ],
   "source": [
    "\n",
    "pas_col =['pasientNr','alder','kjonn'\n",
    "          ]\n",
    "\n",
    "\n",
    "df_pasient = pd.read_csv(\"../../data/raw/pasient.csv\",sep='\\t',dtype=\n",
    "                 \n",
    "                 {'pasientNr':'int'\n",
    "   \n",
    " \n",
    " ,'alder'  : 'int'                 \n",
    "    ,'kjonn'  : 'object'                  \n",
    "\n",
    "                 },usecols =pas_col)\n",
    "df_pasient.info()"
   ]
  },
  {
   "cell_type": "code",
   "execution_count": 187,
   "id": "5ccc2468-538f-407d-acf3-3eb3bb7f8cd7",
   "metadata": {},
   "outputs": [
    {
     "data": {
      "text/html": [
       "<div>\n",
       "<style scoped>\n",
       "    .dataframe tbody tr th:only-of-type {\n",
       "        vertical-align: middle;\n",
       "    }\n",
       "\n",
       "    .dataframe tbody tr th {\n",
       "        vertical-align: top;\n",
       "    }\n",
       "\n",
       "    .dataframe thead th {\n",
       "        text-align: right;\n",
       "    }\n",
       "</style>\n",
       "<table border=\"1\" class=\"dataframe\">\n",
       "  <thead>\n",
       "    <tr style=\"text-align: right;\">\n",
       "      <th></th>\n",
       "      <th>pasientNr</th>\n",
       "      <th>alder</th>\n",
       "      <th>kjonn</th>\n",
       "    </tr>\n",
       "  </thead>\n",
       "  <tbody>\n",
       "  </tbody>\n",
       "</table>\n",
       "</div>"
      ],
      "text/plain": [
       "Empty DataFrame\n",
       "Columns: [pasientNr, alder, kjonn]\n",
       "Index: []"
      ]
     },
     "execution_count": 187,
     "metadata": {},
     "output_type": "execute_result"
    }
   ],
   "source": [
    "ids = df_pasient[\"pasientNr\"]\n",
    "df_pasient[ids.isin(ids[ids.duplicated()])].sort_values(\"pasientNr\")"
   ]
  },
  {
   "cell_type": "markdown",
   "id": "eb4e2a5d",
   "metadata": {},
   "source": [
    "## Prepare data "
   ]
  },
  {
   "cell_type": "code",
   "execution_count": 188,
   "id": "17b7a2c0",
   "metadata": {},
   "outputs": [],
   "source": [
    "df_episode_t =df_episode.copy()\n",
    "df_henvisningsperiode_t = df_henvisningsperiode.copy()\n",
    "df_pasient_t = df_pasient.copy()\n"
   ]
  },
  {
   "cell_type": "markdown",
   "id": "751ceaae",
   "metadata": {},
   "source": [
    "### Filtrer ut henvisninger uten episoder"
   ]
  },
  {
   "cell_type": "code",
   "execution_count": 189,
   "id": "4fc4d76d",
   "metadata": {},
   "outputs": [],
   "source": [
    "#henvlist = df_henvisningsperiode_exp['henvisningsperiodeID'].unique().tolist()\n",
    "episoder_henvlist= df_episode_t['henvisningsperiodeID'].unique().tolist()\n",
    "#df_episode_exp = df_episode_exp[df_episode_exp['henvisningsperiodeID'].isin(henvlist)]\n",
    "df_henvisningsperiode_t = df_henvisningsperiode_t[df_henvisningsperiode_t['henvisningsperiodeID'].isin(episoder_henvlist)]\n",
    "\n",
    "#henv_uten_episoder= list(set(henvlist) - set(episoder_henvlist))\n",
    "#df_henvisningsperiode_exp = df_henvisningsperiode_exp[~df_henvisningsperiode_exp['henvisningsperiodeID'].isin(henv_uten_episoder)]\n",
    "#df_episode_exp = df_episode_exp[~df_episode_exp['henvisningsperiodeID'].isin(henv_uten_episoder)]"
   ]
  },
  {
   "cell_type": "code",
   "execution_count": 190,
   "id": "595de5fd",
   "metadata": {},
   "outputs": [],
   "source": [
    "#### finally filter episode with henvisningsperiodIDs not in henvisningsperiode\n",
    "henvlist = df_henvisningsperiode_t['henvisningsperiodeID'].unique().tolist()\n",
    "df_episode_t = df_episode_t[df_episode_t['henvisningsperiodeID'].isin(henvlist)]"
   ]
  },
  {
   "cell_type": "code",
   "execution_count": 191,
   "id": "2ea44aae",
   "metadata": {},
   "outputs": [
    {
     "name": "stdout",
     "output_type": "stream",
     "text": [
      "7730\n",
      "7730\n",
      "6924\n",
      "6924\n"
     ]
    }
   ],
   "source": [
    "print(len(df_episode_t['henvisningsperiodeID'].unique()))\n",
    "print(len(df_henvisningsperiode_t['henvisningsperiodeID'].unique()))\n",
    "print(len(df_pasient_t['pasientNr'].unique()))\n",
    "print(len(df_henvisningsperiode_t['pasientNr'].unique()))"
   ]
  },
  {
   "cell_type": "code",
   "execution_count": 192,
   "id": "b3193e07",
   "metadata": {},
   "outputs": [
    {
     "name": "stdout",
     "output_type": "stream",
     "text": [
      "<class 'pandas.core.frame.DataFrame'>\n",
      "RangeIndex: 7730 entries, 0 to 7729\n",
      "Data columns (total 4 columns):\n",
      " #   Column                Non-Null Count  Dtype         \n",
      "---  ------                --------------  -----         \n",
      " 0   pasientNr             7730 non-null   int64         \n",
      " 1   henvisningsperiodeID  7730 non-null   int64         \n",
      " 2   sluttDato             7730 non-null   datetime64[ns]\n",
      " 3   ansienDato            7730 non-null   datetime64[ns]\n",
      "dtypes: datetime64[ns](2), int64(2)\n",
      "memory usage: 241.7 KB\n"
     ]
    }
   ],
   "source": [
    "df_henvisningsperiode.info()"
   ]
  },
  {
   "cell_type": "markdown",
   "id": "ae42f9a0-d690-4be8-a33b-0b2717bafbff",
   "metadata": {},
   "source": [
    "### Fill NA"
   ]
  },
  {
   "cell_type": "code",
   "execution_count": 193,
   "id": "03d33fd9",
   "metadata": {},
   "outputs": [],
   "source": [
    "#df_henvisningsperiode_t = df_henvisningsperiode_t.drop(columns=['alder','kjonn'], axis=1)\n",
    "#df_henvisningsperiode_t.info()"
   ]
  },
  {
   "cell_type": "code",
   "execution_count": 194,
   "id": "f285e978",
   "metadata": {},
   "outputs": [],
   "source": [
    "from sklearn.impute import SimpleImputer\n",
    "import numpy as np\n",
    "# Setting the random_state argument for reproducibility\n",
    "\n",
    "imp_constant = SimpleImputer(missing_values=np.nan, strategy='constant',fill_value='missing')\n",
    "#imp_median = SimpleImputer(missing_values=np.nan, strategy='median')\n",
    "#imputer = imp_constant(random_state=42)\n",
    "imputer = imp_constant.fit(df_episode_t[episode_cat])\n",
    "df_episode_t[episode_cat] = imputer.transform(pd.DataFrame(df_episode_t, columns=episode_cat))\n",
    "\n",
    "#imp_median = SimpleImputer(missing_values=np.nan, strategy='median')\n",
    "#imputer = imp_constant(random_state=42)\n",
    "\n",
    "#imputer = imp_constant.fit(data[['tilst1akse1']])\n",
    "#henvisningsperiode_transformed[['tilst1akse1']] = imputer.transform(pd.DataFrame(henvisningsperiode_transformed, columns=['tilst1akse1']))\n",
    " "
   ]
  },
  {
   "cell_type": "code",
   "execution_count": 195,
   "id": "a1a8bd71-edc5-44b7-b62b-bfdbd26b9c9c",
   "metadata": {},
   "outputs": [
    {
     "name": "stdout",
     "output_type": "stream",
     "text": [
      "<class 'pandas.core.frame.DataFrame'>\n",
      "RangeIndex: 73134 entries, 0 to 73133\n",
      "Data columns (total 47 columns):\n",
      " #   Column                Non-Null Count  Dtype         \n",
      "---  ------                --------------  -----         \n",
      " 0   episode_order         73134 non-null  int64         \n",
      " 1   henvisningsperiodeID  73134 non-null  int64         \n",
      " 2   episodeID             73134 non-null  int64         \n",
      " 3   innDatoTid            73134 non-null  datetime64[ns]\n",
      " 4   utDatoTid             73134 non-null  datetime64[ns]\n",
      " 5   ReshID_Avdeling       73134 non-null  object        \n",
      " 6   ReshID_Seksjon        73134 non-null  object        \n",
      " 7   kontaktType           73134 non-null  object        \n",
      " 8   polUtforende          73134 non-null  object        \n",
      " 9   spesialist            73134 non-null  int64         \n",
      " 10  rolle                 73134 non-null  object        \n",
      " 11  tilst1akse1           73134 non-null  object        \n",
      " 12  tilst2akse1           73134 non-null  object        \n",
      " 13  tilst3akse1           73134 non-null  object        \n",
      " 14  tilst4akse1           73134 non-null  object        \n",
      " 15  tilst5akse1           73134 non-null  object        \n",
      " 16  tilst6akse1           73134 non-null  object        \n",
      " 17  tilst1akse2           73134 non-null  object        \n",
      " 18  tilst2akse2           73134 non-null  object        \n",
      " 19  tilst3akse2           73134 non-null  object        \n",
      " 20  tilst4akse2           73134 non-null  object        \n",
      " 21  tilst5akse2           73134 non-null  object        \n",
      " 22  tilst6akse2           73134 non-null  object        \n",
      " 23  tilst1akse3           73134 non-null  object        \n",
      " 24  tilst2akse3           73134 non-null  object        \n",
      " 25  tilst3akse3           73134 non-null  object        \n",
      " 26  tilst4akse3           73134 non-null  object        \n",
      " 27  tilst5akse3           73134 non-null  object        \n",
      " 28  tilst6akse3           73134 non-null  object        \n",
      " 29  tilst1akse4           73134 non-null  object        \n",
      " 30  tilst2akse4           73134 non-null  object        \n",
      " 31  tilst3akse4           73134 non-null  object        \n",
      " 32  tilst4akse4           73134 non-null  object        \n",
      " 33  tilst5akse4           73134 non-null  object        \n",
      " 34  tilst6akse4           73134 non-null  object        \n",
      " 35  tilst1akse5           73134 non-null  object        \n",
      " 36  tilst2akse5           73134 non-null  object        \n",
      " 37  tilst3akse5           73134 non-null  object        \n",
      " 38  tilst4akse5           73134 non-null  object        \n",
      " 39  tilst5akse5           73134 non-null  object        \n",
      " 40  tilst6akse5           73134 non-null  object        \n",
      " 41  tilst1akse6           73134 non-null  object        \n",
      " 42  tilst2akse6           73134 non-null  object        \n",
      " 43  tilst3akse6           73134 non-null  object        \n",
      " 44  tilst4akse6           73134 non-null  object        \n",
      " 45  tilst5akse6           73134 non-null  object        \n",
      " 46  tilst6akse6           73134 non-null  object        \n",
      "dtypes: datetime64[ns](2), int64(4), object(41)\n",
      "memory usage: 26.2+ MB\n"
     ]
    }
   ],
   "source": [
    "df_episode_t.info()"
   ]
  },
  {
   "cell_type": "markdown",
   "id": "f084cb7f",
   "metadata": {},
   "source": [
    "# Transform \n"
   ]
  },
  {
   "cell_type": "code",
   "execution_count": 196,
   "id": "0b51a9c7",
   "metadata": {},
   "outputs": [],
   "source": [
    "df_henvisningsperiode_t['henvisnigsperiode_varighet'] = ((df_henvisningsperiode['sluttDato'] - df_henvisningsperiode['ansienDato']) / np.timedelta64(1, 'D')).astype(int)"
   ]
  },
  {
   "cell_type": "code",
   "execution_count": 197,
   "id": "f934cefe",
   "metadata": {},
   "outputs": [],
   "source": [
    "episode_groupby= df_episode_t.groupby('henvisningsperiodeID', as_index=False)['episodeID'].count()"
   ]
  },
  {
   "cell_type": "code",
   "execution_count": 198,
   "id": "093d47b2",
   "metadata": {},
   "outputs": [
    {
     "data": {
      "text/html": [
       "<div>\n",
       "<style scoped>\n",
       "    .dataframe tbody tr th:only-of-type {\n",
       "        vertical-align: middle;\n",
       "    }\n",
       "\n",
       "    .dataframe tbody tr th {\n",
       "        vertical-align: top;\n",
       "    }\n",
       "\n",
       "    .dataframe thead th {\n",
       "        text-align: right;\n",
       "    }\n",
       "</style>\n",
       "<table border=\"1\" class=\"dataframe\">\n",
       "  <thead>\n",
       "    <tr style=\"text-align: right;\">\n",
       "      <th></th>\n",
       "      <th>henvisningsperiodeID</th>\n",
       "      <th>episodeID</th>\n",
       "    </tr>\n",
       "  </thead>\n",
       "  <tbody>\n",
       "    <tr>\n",
       "      <th>0</th>\n",
       "      <td>7386305</td>\n",
       "      <td>3</td>\n",
       "    </tr>\n",
       "    <tr>\n",
       "      <th>1</th>\n",
       "      <td>7386308</td>\n",
       "      <td>1</td>\n",
       "    </tr>\n",
       "    <tr>\n",
       "      <th>2</th>\n",
       "      <td>7386309</td>\n",
       "      <td>1</td>\n",
       "    </tr>\n",
       "    <tr>\n",
       "      <th>3</th>\n",
       "      <td>7386314</td>\n",
       "      <td>1</td>\n",
       "    </tr>\n",
       "    <tr>\n",
       "      <th>4</th>\n",
       "      <td>7386316</td>\n",
       "      <td>1</td>\n",
       "    </tr>\n",
       "  </tbody>\n",
       "</table>\n",
       "</div>"
      ],
      "text/plain": [
       "   henvisningsperiodeID  episodeID\n",
       "0               7386305          3\n",
       "1               7386308          1\n",
       "2               7386309          1\n",
       "3               7386314          1\n",
       "4               7386316          1"
      ]
     },
     "execution_count": 198,
     "metadata": {},
     "output_type": "execute_result"
    }
   ],
   "source": [
    "episode_groupby.head()"
   ]
  },
  {
   "cell_type": "code",
   "execution_count": 199,
   "id": "f03dfd1f",
   "metadata": {},
   "outputs": [],
   "source": [
    "df_henvisningsperiode_t = pd.merge(df_henvisningsperiode_t, episode_groupby, on=['henvisningsperiodeID'])"
   ]
  },
  {
   "cell_type": "code",
   "execution_count": 200,
   "id": "30d65ada",
   "metadata": {},
   "outputs": [
    {
     "data": {
      "text/html": [
       "<div>\n",
       "<style scoped>\n",
       "    .dataframe tbody tr th:only-of-type {\n",
       "        vertical-align: middle;\n",
       "    }\n",
       "\n",
       "    .dataframe tbody tr th {\n",
       "        vertical-align: top;\n",
       "    }\n",
       "\n",
       "    .dataframe thead th {\n",
       "        text-align: right;\n",
       "    }\n",
       "</style>\n",
       "<table border=\"1\" class=\"dataframe\">\n",
       "  <thead>\n",
       "    <tr style=\"text-align: right;\">\n",
       "      <th></th>\n",
       "      <th>pasientNr</th>\n",
       "      <th>henvisningsperiodeID</th>\n",
       "      <th>sluttDato</th>\n",
       "      <th>ansienDato</th>\n",
       "      <th>henvisnigsperiode_varighet</th>\n",
       "      <th>antall_kontakter</th>\n",
       "    </tr>\n",
       "  </thead>\n",
       "  <tbody>\n",
       "    <tr>\n",
       "      <th>0</th>\n",
       "      <td>1001395</td>\n",
       "      <td>7386305</td>\n",
       "      <td>2016-06-07</td>\n",
       "      <td>2011-11-17</td>\n",
       "      <td>1664</td>\n",
       "      <td>3</td>\n",
       "    </tr>\n",
       "    <tr>\n",
       "      <th>1</th>\n",
       "      <td>1623992</td>\n",
       "      <td>7386308</td>\n",
       "      <td>2015-06-24</td>\n",
       "      <td>2011-11-25</td>\n",
       "      <td>1307</td>\n",
       "      <td>1</td>\n",
       "    </tr>\n",
       "    <tr>\n",
       "      <th>2</th>\n",
       "      <td>1582152</td>\n",
       "      <td>7386309</td>\n",
       "      <td>2018-01-04</td>\n",
       "      <td>2011-11-30</td>\n",
       "      <td>2227</td>\n",
       "      <td>1</td>\n",
       "    </tr>\n",
       "    <tr>\n",
       "      <th>3</th>\n",
       "      <td>1350364</td>\n",
       "      <td>7386314</td>\n",
       "      <td>2017-06-20</td>\n",
       "      <td>2011-12-08</td>\n",
       "      <td>2021</td>\n",
       "      <td>1</td>\n",
       "    </tr>\n",
       "    <tr>\n",
       "      <th>4</th>\n",
       "      <td>1791950</td>\n",
       "      <td>7386316</td>\n",
       "      <td>2015-01-28</td>\n",
       "      <td>2011-12-12</td>\n",
       "      <td>1143</td>\n",
       "      <td>1</td>\n",
       "    </tr>\n",
       "  </tbody>\n",
       "</table>\n",
       "</div>"
      ],
      "text/plain": [
       "   pasientNr  henvisningsperiodeID  sluttDato ansienDato  \\\n",
       "0    1001395               7386305 2016-06-07 2011-11-17   \n",
       "1    1623992               7386308 2015-06-24 2011-11-25   \n",
       "2    1582152               7386309 2018-01-04 2011-11-30   \n",
       "3    1350364               7386314 2017-06-20 2011-12-08   \n",
       "4    1791950               7386316 2015-01-28 2011-12-12   \n",
       "\n",
       "   henvisnigsperiode_varighet  antall_kontakter  \n",
       "0                        1664                 3  \n",
       "1                        1307                 1  \n",
       "2                        2227                 1  \n",
       "3                        2021                 1  \n",
       "4                        1143                 1  "
      ]
     },
     "execution_count": 200,
     "metadata": {},
     "output_type": "execute_result"
    }
   ],
   "source": [
    "df_henvisningsperiode_t.rename(columns = {'episodeID':'antall_kontakter'}, inplace = True)\n",
    "df_henvisningsperiode_t.head()"
   ]
  },
  {
   "cell_type": "markdown",
   "id": "cafaa65a-5e93-461d-8289-cde9915777eb",
   "metadata": {},
   "source": [
    "### Legg til median kontakt lengde "
   ]
  },
  {
   "cell_type": "code",
   "execution_count": 201,
   "id": "5953fa61",
   "metadata": {},
   "outputs": [],
   "source": [
    "df_episode_t['episode_varighet'] = ((df_episode['utDatoTid'] - df_episode['innDatoTid']) / np.timedelta64(1, 'm')).astype(int)"
   ]
  },
  {
   "cell_type": "code",
   "execution_count": 202,
   "id": "9f29aeca",
   "metadata": {},
   "outputs": [
    {
     "data": {
      "text/plain": [
       "<Axes: ylabel='Frequency'>"
      ]
     },
     "execution_count": 202,
     "metadata": {},
     "output_type": "execute_result"
    },
    {
     "data": {
      "image/png": "[encoded data removed]",
      "text/plain": [
       "<Figure size 640x480 with 1 Axes>"
      ]
     },
     "metadata": {},
     "output_type": "display_data"
    }
   ],
   "source": [
    "df_episode_t['episode_varighet'].plot(kind='hist')"
   ]
  },
  {
   "cell_type": "code",
   "execution_count": 203,
   "id": "efc2ca6f-99fc-4c54-9f7b-2aa8a420a587",
   "metadata": {},
   "outputs": [
    {
     "name": "stdout",
     "output_type": "stream",
     "text": [
      "<class 'pandas.core.frame.DataFrame'>\n",
      "RangeIndex: 7730 entries, 0 to 7729\n",
      "Data columns (total 7 columns):\n",
      " #   Column                      Non-Null Count  Dtype         \n",
      "---  ------                      --------------  -----         \n",
      " 0   pasientNr                   7730 non-null   int64         \n",
      " 1   henvisningsperiodeID        7730 non-null   int64         \n",
      " 2   sluttDato                   7730 non-null   datetime64[ns]\n",
      " 3   ansienDato                  7730 non-null   datetime64[ns]\n",
      " 4   henvisnigsperiode_varighet  7730 non-null   int64         \n",
      " 5   antall_kontakter            7730 non-null   int64         \n",
      " 6   episode_varighet            7730 non-null   float64       \n",
      "dtypes: datetime64[ns](2), float64(1), int64(4)\n",
      "memory usage: 422.9 KB\n"
     ]
    }
   ],
   "source": [
    "df =df_episode_t.groupby(['henvisningsperiodeID']).agg({\n",
    "#'kontaktTypeGrp_Direkte_pasientkontakt':'sum'\n",
    "#,'kontaktTypeGrp_Indirekte_pasientkontakt':'sum'\n",
    "'episode_varighet':'median'\n",
    "              \n",
    "                                         \n",
    "                                         \n",
    "                                         })\n",
    "df_henvisningsperiode_t = pd.merge(df_henvisningsperiode_t, df, how='left', left_on=['henvisningsperiodeID'], right_on=['henvisningsperiodeID'])\n",
    "df_henvisningsperiode_t.info()"
   ]
  },
  {
   "cell_type": "code",
   "execution_count": 204,
   "id": "dc21d250-cc9f-4435-aee4-5868ef938423",
   "metadata": {},
   "outputs": [
    {
     "data": {
      "text/html": [
       "<div>\n",
       "<style scoped>\n",
       "    .dataframe tbody tr th:only-of-type {\n",
       "        vertical-align: middle;\n",
       "    }\n",
       "\n",
       "    .dataframe tbody tr th {\n",
       "        vertical-align: top;\n",
       "    }\n",
       "\n",
       "    .dataframe thead th {\n",
       "        text-align: right;\n",
       "    }\n",
       "</style>\n",
       "<table border=\"1\" class=\"dataframe\">\n",
       "  <thead>\n",
       "    <tr style=\"text-align: right;\">\n",
       "      <th></th>\n",
       "      <th>pasientNr</th>\n",
       "      <th>henvisningsperiodeID</th>\n",
       "      <th>sluttDato</th>\n",
       "      <th>ansienDato</th>\n",
       "      <th>henvisnigsperiode_varighet</th>\n",
       "      <th>antall_kontakter</th>\n",
       "      <th>episode_varighet</th>\n",
       "    </tr>\n",
       "  </thead>\n",
       "  <tbody>\n",
       "    <tr>\n",
       "      <th>0</th>\n",
       "      <td>1001395</td>\n",
       "      <td>7386305</td>\n",
       "      <td>2016-06-07</td>\n",
       "      <td>2011-11-17</td>\n",
       "      <td>1664</td>\n",
       "      <td>3</td>\n",
       "      <td>20.0</td>\n",
       "    </tr>\n",
       "    <tr>\n",
       "      <th>1</th>\n",
       "      <td>1623992</td>\n",
       "      <td>7386308</td>\n",
       "      <td>2015-06-24</td>\n",
       "      <td>2011-11-25</td>\n",
       "      <td>1307</td>\n",
       "      <td>1</td>\n",
       "      <td>30.0</td>\n",
       "    </tr>\n",
       "    <tr>\n",
       "      <th>2</th>\n",
       "      <td>1582152</td>\n",
       "      <td>7386309</td>\n",
       "      <td>2018-01-04</td>\n",
       "      <td>2011-11-30</td>\n",
       "      <td>2227</td>\n",
       "      <td>1</td>\n",
       "      <td>60.0</td>\n",
       "    </tr>\n",
       "    <tr>\n",
       "      <th>3</th>\n",
       "      <td>1350364</td>\n",
       "      <td>7386314</td>\n",
       "      <td>2017-06-20</td>\n",
       "      <td>2011-12-08</td>\n",
       "      <td>2021</td>\n",
       "      <td>1</td>\n",
       "      <td>90.0</td>\n",
       "    </tr>\n",
       "    <tr>\n",
       "      <th>4</th>\n",
       "      <td>1791950</td>\n",
       "      <td>7386316</td>\n",
       "      <td>2015-01-28</td>\n",
       "      <td>2011-12-12</td>\n",
       "      <td>1143</td>\n",
       "      <td>1</td>\n",
       "      <td>20.0</td>\n",
       "    </tr>\n",
       "  </tbody>\n",
       "</table>\n",
       "</div>"
      ],
      "text/plain": [
       "   pasientNr  henvisningsperiodeID  sluttDato ansienDato  \\\n",
       "0    1001395               7386305 2016-06-07 2011-11-17   \n",
       "1    1623992               7386308 2015-06-24 2011-11-25   \n",
       "2    1582152               7386309 2018-01-04 2011-11-30   \n",
       "3    1350364               7386314 2017-06-20 2011-12-08   \n",
       "4    1791950               7386316 2015-01-28 2011-12-12   \n",
       "\n",
       "   henvisnigsperiode_varighet  antall_kontakter  episode_varighet  \n",
       "0                        1664                 3              20.0  \n",
       "1                        1307                 1              30.0  \n",
       "2                        2227                 1              60.0  \n",
       "3                        2021                 1              90.0  \n",
       "4                        1143                 1              20.0  "
      ]
     },
     "execution_count": 204,
     "metadata": {},
     "output_type": "execute_result"
    }
   ],
   "source": [
    "df_henvisningsperiode_t.head()"
   ]
  },
  {
   "cell_type": "code",
   "execution_count": 205,
   "id": "e09944b5-baf0-4b32-94ab-6d3a300d58c5",
   "metadata": {},
   "outputs": [
    {
     "name": "stdout",
     "output_type": "stream",
     "text": [
      "<class 'pandas.core.frame.DataFrame'>\n",
      "RangeIndex: 7730 entries, 0 to 7729\n",
      "Data columns (total 7 columns):\n",
      " #   Column                      Non-Null Count  Dtype         \n",
      "---  ------                      --------------  -----         \n",
      " 0   pasientNr                   7730 non-null   int64         \n",
      " 1   henvisningsperiodeID        7730 non-null   int64         \n",
      " 2   sluttDato                   7730 non-null   datetime64[ns]\n",
      " 3   ansienDato                  7730 non-null   datetime64[ns]\n",
      " 4   henvisnigsperiode_varighet  7730 non-null   int64         \n",
      " 5   antall_kontakter            7730 non-null   int64         \n",
      " 6   episode_varighet            7730 non-null   float64       \n",
      "dtypes: datetime64[ns](2), float64(1), int64(4)\n",
      "memory usage: 422.9 KB\n"
     ]
    }
   ],
   "source": [
    "df_henvisningsperiode_t.info()"
   ]
  },
  {
   "cell_type": "markdown",
   "id": "eda2953e",
   "metadata": {},
   "source": [
    "### Legg til    kontaktType polUtforende   spesialist   rolle "
   ]
  },
  {
   "cell_type": "code",
   "execution_count": 206,
   "id": "e4b0b7ab",
   "metadata": {},
   "outputs": [
    {
     "name": "stdout",
     "output_type": "stream",
     "text": [
      "<class 'pandas.core.frame.DataFrame'>\n",
      "RangeIndex: 73134 entries, 0 to 73133\n",
      "Data columns (total 48 columns):\n",
      " #   Column                Non-Null Count  Dtype         \n",
      "---  ------                --------------  -----         \n",
      " 0   episode_order         73134 non-null  int64         \n",
      " 1   henvisningsperiodeID  73134 non-null  int64         \n",
      " 2   episodeID             73134 non-null  int64         \n",
      " 3   innDatoTid            73134 non-null  datetime64[ns]\n",
      " 4   utDatoTid             73134 non-null  datetime64[ns]\n",
      " 5   ReshID_Avdeling       73134 non-null  object        \n",
      " 6   ReshID_Seksjon        73134 non-null  object        \n",
      " 7   kontaktType           73134 non-null  object        \n",
      " 8   polUtforende          73134 non-null  object        \n",
      " 9   spesialist            73134 non-null  int64         \n",
      " 10  rolle                 73134 non-null  object        \n",
      " 11  tilst1akse1           73134 non-null  object        \n",
      " 12  tilst2akse1           73134 non-null  object        \n",
      " 13  tilst3akse1           73134 non-null  object        \n",
      " 14  tilst4akse1           73134 non-null  object        \n",
      " 15  tilst5akse1           73134 non-null  object        \n",
      " 16  tilst6akse1           73134 non-null  object        \n",
      " 17  tilst1akse2           73134 non-null  object        \n",
      " 18  tilst2akse2           73134 non-null  object        \n",
      " 19  tilst3akse2           73134 non-null  object        \n",
      " 20  tilst4akse2           73134 non-null  object        \n",
      " 21  tilst5akse2           73134 non-null  object        \n",
      " 22  tilst6akse2           73134 non-null  object        \n",
      " 23  tilst1akse3           73134 non-null  object        \n",
      " 24  tilst2akse3           73134 non-null  object        \n",
      " 25  tilst3akse3           73134 non-null  object        \n",
      " 26  tilst4akse3           73134 non-null  object        \n",
      " 27  tilst5akse3           73134 non-null  object        \n",
      " 28  tilst6akse3           73134 non-null  object        \n",
      " 29  tilst1akse4           73134 non-null  object        \n",
      " 30  tilst2akse4           73134 non-null  object        \n",
      " 31  tilst3akse4           73134 non-null  object        \n",
      " 32  tilst4akse4           73134 non-null  object        \n",
      " 33  tilst5akse4           73134 non-null  object        \n",
      " 34  tilst6akse4           73134 non-null  object        \n",
      " 35  tilst1akse5           73134 non-null  object        \n",
      " 36  tilst2akse5           73134 non-null  object        \n",
      " 37  tilst3akse5           73134 non-null  object        \n",
      " 38  tilst4akse5           73134 non-null  object        \n",
      " 39  tilst5akse5           73134 non-null  object        \n",
      " 40  tilst6akse5           73134 non-null  object        \n",
      " 41  tilst1akse6           73134 non-null  object        \n",
      " 42  tilst2akse6           73134 non-null  object        \n",
      " 43  tilst3akse6           73134 non-null  object        \n",
      " 44  tilst4akse6           73134 non-null  object        \n",
      " 45  tilst5akse6           73134 non-null  object        \n",
      " 46  tilst6akse6           73134 non-null  object        \n",
      " 47  episode_varighet      73134 non-null  int64         \n",
      "dtypes: datetime64[ns](2), int64(5), object(41)\n",
      "memory usage: 26.8+ MB\n"
     ]
    }
   ],
   "source": [
    "df_episode_t.info()\n",
    "#df_episode_t[\"rolleGrp\"]"
   ]
  },
  {
   "cell_type": "code",
   "execution_count": 207,
   "id": "062662b1",
   "metadata": {},
   "outputs": [
    {
     "data": {
      "text/plain": [
       "<Axes: ylabel='spesialist'>"
      ]
     },
     "execution_count": 207,
     "metadata": {},
     "output_type": "execute_result"
    },
    {
     "data": {
      "image/png": "[encoded data removed]",
      "text/plain": [
       "<Figure size 640x480 with 1 Axes>"
      ]
     },
     "metadata": {},
     "output_type": "display_data"
    }
   ],
   "source": [
    "df_episode_t[\"spesialist\"] = df_episode_t.rolle.map({1:'Ja',2:'Nei',9:'Ukjent'})\n",
    "df_episode_t[\"spesialist\"].value_counts().plot(kind='barh')"
   ]
  },
  {
   "cell_type": "code",
   "execution_count": 208,
   "id": "7691460e",
   "metadata": {},
   "outputs": [
    {
     "data": {
      "text/plain": [
       "<Axes: ylabel='rolleGrp'>"
      ]
     },
     "execution_count": 208,
     "metadata": {},
     "output_type": "execute_result"
    },
    {
     "data": {
      "image/png": "[encoded data removed]",
      "text/plain": [
       "<Figure size 640x480 with 1 Axes>"
      ]
     },
     "metadata": {},
     "output_type": "display_data"
    }
   ],
   "source": [
    "df_episode_t[\"rolleGrp\"] = df_episode_t.rolle.map({1:'Ansvarlig',2:'kontakt'})\n",
    "df_episode_t[\"rolleGrp\"].value_counts().plot(kind='barh')"
   ]
  },
  {
   "cell_type": "code",
   "execution_count": 209,
   "id": "eaeb43c8",
   "metadata": {},
   "outputs": [
    {
     "data": {
      "text/plain": [
       "<Axes: ylabel='polUtforende'>"
      ]
     },
     "execution_count": 209,
     "metadata": {},
     "output_type": "execute_result"
    },
    {
     "data": {
      "image/png": "[encoded data removed]",
      "text/plain": [
       "<Figure size 640x480 with 1 Axes>"
      ]
     },
     "metadata": {},
     "output_type": "display_data"
    }
   ],
   "source": [
    "df_episode_t.polUtforende.value_counts().plot(kind='barh')"
   ]
  },
  {
   "cell_type": "code",
   "execution_count": 210,
   "id": "48608909",
   "metadata": {},
   "outputs": [
    {
     "data": {
      "text/plain": [
       "<Axes: ylabel='polUtforendeGrp'>"
      ]
     },
     "execution_count": 210,
     "metadata": {},
     "output_type": "execute_result"
    },
    {
     "data": {
      "image/png": "[encoded data removed]",
      "text/plain": [
       "<Figure size 640x480 with 1 Axes>"
      ]
     },
     "metadata": {},
     "output_type": "display_data"
    }
   ],
   "source": [
    "df_episode_t.polUtforende.value_counts().plot(kind='barh')\n",
    "df_episode_t['polUtforendeGrp'] =df_episode_t.polUtforende\n",
    "#df_episode_t['polUtforendeGrp'] = df_episode_t[['polUtforende']] .apply(condense_category,min_freq=0.0001, axis=0)\n",
    "df_episode_t[\"polUtforendeGrp\"] = df_episode_t.polUtforendeGrp.map({4:'Psykolog',1:'Lege',5:'Annet_helsepersonell',9:'Sosionom', \n",
    "                                                                    2:'Annet_helsepersonell',7:'Annet_helsepersonell',\n",
    "                                                                    3:'Annet_helsepersonell',6:'Annet_helsepersonell',\n",
    "                                                                    14:'Annet_helsepersonell',15:'Annet_helsepersonell'} #Ernæringfysiolog/fysioterpeut\n",
    "                                                                    )\n",
    "df_episode_t.polUtforendeGrp.value_counts().plot(kind='barh')"
   ]
  },
  {
   "cell_type": "code",
   "execution_count": 211,
   "id": "5e217a09",
   "metadata": {},
   "outputs": [
    {
     "name": "stderr",
     "output_type": "stream",
     "text": [
      "/home/ihelse.net/adm_mounir/source/repos/dsc_hvikt_synthdata/notebooks/exploratory/functions.py:32: FutureWarning: pandas.value_counts is deprecated and will be removed in a future version. Use pd.Series(obj).value_counts() instead.\n",
      "  series = pd.value_counts(col)\n"
     ]
    },
    {
     "data": {
      "text/plain": [
       "<Axes: ylabel='kontaktTypeGrp'>"
      ]
     },
     "execution_count": 211,
     "metadata": {},
     "output_type": "execute_result"
    },
    {
     "data": {
      "image/png": "[encoded data removed]",
      "text/plain": [
       "<Figure size 640x480 with 1 Axes>"
      ]
     },
     "metadata": {},
     "output_type": "display_data"
    }
   ],
   "source": [
    "\n",
    "df_episode_t['kontaktTypeGrp'] = df_episode_t[['kontaktType']] .apply(condense_category,min_freq=0.01, axis=0)\n",
    "\n",
    "\n",
    "df_episode_t[\"kontaktTypeGrp\"] = df_episode_t.kontaktTypeGrp.map({1:'Utredning',2:'Behandling',5:'Indirekte_pasientkontakt',3:'Kontroll', 'andre':'Direkte_pasientkontakt'})\n",
    "df_episode_t.kontaktTypeGrp.value_counts().plot(kind='barh')\n"
   ]
  },
  {
   "cell_type": "code",
   "execution_count": 212,
   "id": "adbd62b4-ed2f-44a9-b14c-134d53a6a296",
   "metadata": {},
   "outputs": [],
   "source": [
    "\n",
    "#df_episode_t['ReshID_SeksjonGrp'] = df_episode_t[['ReshID_Seksjon']] .apply(condense_category,min_freq=0.01, axis=0)\n",
    "\n",
    "\n",
    "#df_episode_t[\"kontaktTypeGrp\"] = df_episode_t.kontaktTypeGrp.map({'1':'Direkte_pasientkontakt','2':'Direkte_pasientkontakt','5':'Indirekte_pasientkontakt', 'andre':'Direkte_pasientkontakt'})\n",
    "#df_episode_t.ReshID_SeksjonGrp.value_counts().plot(kind='barh')"
   ]
  },
  {
   "cell_type": "markdown",
   "id": "111e51e1-ee4e-4808-bf70-279d3ea6f11d",
   "metadata": {},
   "source": [
    "### JOIN episoder to ICD10 kapittel"
   ]
  },
  {
   "cell_type": "code",
   "execution_count": 213,
   "id": "849b301f-dc81-4d2c-9f40-a8ee84f0bd15",
   "metadata": {},
   "outputs": [],
   "source": [
    "#m= {\"F30-F39\":\"F30-F48\",\"1000\":\"1000\",\"F30-F39\":\"F30-F48\",\"1999\":\"1999\",\"F40-F48\":\"F30-F48\",\"Z00-Z13\":\"Z00-R46\",\"F90-F98\":\"F90-F98\",\"R40-R46\":\"Z00-R46\",\"andre\":\"andre\",\"missing\":\"missing\"}"
   ]
  },
  {
   "cell_type": "code",
   "execution_count": 214,
   "id": "e153e103-331b-41c8-b897-16b6ae9cf175",
   "metadata": {},
   "outputs": [
    {
     "name": "stderr",
     "output_type": "stream",
     "text": [
      "/home/ihelse.net/adm_mounir/source/repos/dsc_hvikt_synthdata/notebooks/exploratory/functions.py:32: FutureWarning: pandas.value_counts is deprecated and will be removed in a future version. Use pd.Series(obj).value_counts() instead.\n",
      "  series = pd.value_counts(col)\n"
     ]
    },
    {
     "data": {
      "text/plain": [
       "<Axes: ylabel='tilst1akse1Grp'>"
      ]
     },
     "execution_count": 214,
     "metadata": {},
     "output_type": "execute_result"
    },
    {
     "data": {
      "image/png": "[encoded data removed]",
      "text/plain": [
       "<Figure size 640x480 with 1 Axes>"
      ]
     },
     "metadata": {},
     "output_type": "display_data"
    }
   ],
   "source": [
    "df = pd.merge(df_episode_t, df_icd10Kapittel, how='left', left_on=['tilst1akse1'], right_on=['KodeID'])\n",
    "df['tilst1akse1Grp'] =  np.where(df['Niva1ID'].isnull(), df['tilst1akse1'], df['Niva1ID']) \n",
    "df_episode_t['tilst1akse1Grp']  = df[['tilst1akse1Grp']].apply(condense_category,min_freq=0.05, new_name=\"andre\",axis=0)\n",
    "df_episode_t.tilst1akse1Grp.value_counts().plot(kind='barh')"
   ]
  },
  {
   "cell_type": "code",
   "execution_count": 215,
   "id": "6870ffe4",
   "metadata": {},
   "outputs": [
    {
     "name": "stdout",
     "output_type": "stream",
     "text": [
      "<class 'pandas.core.frame.DataFrame'>\n",
      "RangeIndex: 73134 entries, 0 to 73133\n",
      "Data columns (total 52 columns):\n",
      " #   Column                Non-Null Count  Dtype         \n",
      "---  ------                --------------  -----         \n",
      " 0   episode_order         73134 non-null  int64         \n",
      " 1   henvisningsperiodeID  73134 non-null  int64         \n",
      " 2   episodeID             73134 non-null  int64         \n",
      " 3   innDatoTid            73134 non-null  datetime64[ns]\n",
      " 4   utDatoTid             73134 non-null  datetime64[ns]\n",
      " 5   ReshID_Avdeling       73134 non-null  object        \n",
      " 6   ReshID_Seksjon        73134 non-null  object        \n",
      " 7   kontaktType           73134 non-null  object        \n",
      " 8   polUtforende          73134 non-null  object        \n",
      " 9   spesialist            73134 non-null  object        \n",
      " 10  rolle                 73134 non-null  object        \n",
      " 11  tilst1akse1           73134 non-null  object        \n",
      " 12  tilst2akse1           73134 non-null  object        \n",
      " 13  tilst3akse1           73134 non-null  object        \n",
      " 14  tilst4akse1           73134 non-null  object        \n",
      " 15  tilst5akse1           73134 non-null  object        \n",
      " 16  tilst6akse1           73134 non-null  object        \n",
      " 17  tilst1akse2           73134 non-null  object        \n",
      " 18  tilst2akse2           73134 non-null  object        \n",
      " 19  tilst3akse2           73134 non-null  object        \n",
      " 20  tilst4akse2           73134 non-null  object        \n",
      " 21  tilst5akse2           73134 non-null  object        \n",
      " 22  tilst6akse2           73134 non-null  object        \n",
      " 23  tilst1akse3           73134 non-null  object        \n",
      " 24  tilst2akse3           73134 non-null  object        \n",
      " 25  tilst3akse3           73134 non-null  object        \n",
      " 26  tilst4akse3           73134 non-null  object        \n",
      " 27  tilst5akse3           73134 non-null  object        \n",
      " 28  tilst6akse3           73134 non-null  object        \n",
      " 29  tilst1akse4           73134 non-null  object        \n",
      " 30  tilst2akse4           73134 non-null  object        \n",
      " 31  tilst3akse4           73134 non-null  object        \n",
      " 32  tilst4akse4           73134 non-null  object        \n",
      " 33  tilst5akse4           73134 non-null  object        \n",
      " 34  tilst6akse4           73134 non-null  object        \n",
      " 35  tilst1akse5           73134 non-null  object        \n",
      " 36  tilst2akse5           73134 non-null  object        \n",
      " 37  tilst3akse5           73134 non-null  object        \n",
      " 38  tilst4akse5           73134 non-null  object        \n",
      " 39  tilst5akse5           73134 non-null  object        \n",
      " 40  tilst6akse5           73134 non-null  object        \n",
      " 41  tilst1akse6           73134 non-null  object        \n",
      " 42  tilst2akse6           73134 non-null  object        \n",
      " 43  tilst3akse6           73134 non-null  object        \n",
      " 44  tilst4akse6           73134 non-null  object        \n",
      " 45  tilst5akse6           73134 non-null  object        \n",
      " 46  tilst6akse6           73134 non-null  object        \n",
      " 47  episode_varighet      73134 non-null  int64         \n",
      " 48  rolleGrp              73134 non-null  object        \n",
      " 49  polUtforendeGrp       73134 non-null  object        \n",
      " 50  kontaktTypeGrp        73134 non-null  object        \n",
      " 51  tilst1akse1Grp        73134 non-null  object        \n",
      "dtypes: datetime64[ns](2), int64(4), object(46)\n",
      "memory usage: 29.0+ MB\n"
     ]
    }
   ],
   "source": [
    "df_episode_t.info()"
   ]
  },
  {
   "cell_type": "code",
   "execution_count": 216,
   "id": "67331bbf-6230-4f56-8a67-0fc47e27f943",
   "metadata": {},
   "outputs": [],
   "source": [
    "#df_episode_t[\"tilst1akse1Grp\"] = df_episode_t.tilst1akse1Grp.map(m)\n",
    "#df_episode_t.tilst1akse1Grp.value_counts().plot(kind='barh')"
   ]
  },
  {
   "cell_type": "code",
   "execution_count": 217,
   "id": "cf67b3b5-6553-4405-a972-88c278d6fb43",
   "metadata": {},
   "outputs": [
    {
     "data": {
      "text/plain": [
       "<Axes: ylabel='tilst1akse2Grp'>"
      ]
     },
     "execution_count": 217,
     "metadata": {},
     "output_type": "execute_result"
    },
    {
     "data": {
      "image/png": "[encoded data removed]",
      "text/plain": [
       "<Figure size 640x480 with 1 Axes>"
      ]
     },
     "metadata": {},
     "output_type": "display_data"
    }
   ],
   "source": [
    "df = pd.merge(df_episode_t, df_icd10Kapittel, how='left', left_on=['tilst1akse2'], right_on=['KodeID'])\n",
    "df['tilst1akse2Grp'] =  np.where(df['Niva1ID'].isnull(), df['tilst1akse2'], df['Niva1ID']) \n",
    "df_episode_t['tilst1akse2Grp']  = df[['tilst1akse2Grp']]#.apply(condense_category,min_freq=0.01, axis=0)\n",
    "df_episode_t.tilst1akse2Grp.value_counts().plot(kind='barh')"
   ]
  },
  {
   "cell_type": "code",
   "execution_count": 218,
   "id": "a7d4aa9d",
   "metadata": {},
   "outputs": [],
   "source": [
    "#m= {\"F30-F39\":\"F30-F48\",\"1999\":\"1999\",\"F40-F48\":\"F30-F48\",\"Z00-Z13\":\"RX-ZX\",\"F90-F98\":\"F90-F98\",\"R40-R46\":\"RX-ZX\",\"andre\":\"andre\",\"missing\":\"missing\"}\n",
    "#df_episode_t[\"tilst2akse1Grp\"] = df_episode_t.tilst2akse1Grp.map(m)\n",
    "#df_episode_t.tilst2akse1Grp.value_counts().plot(kind='barh')"
   ]
  },
  {
   "cell_type": "code",
   "execution_count": 219,
   "id": "cf74cd65-ebff-47b0-8b27-bd16d7090acc",
   "metadata": {},
   "outputs": [
    {
     "data": {
      "text/plain": [
       "<Axes: ylabel='tilst1akse3Grp'>"
      ]
     },
     "execution_count": 219,
     "metadata": {},
     "output_type": "execute_result"
    },
    {
     "data": {
      "image/png": "[encoded data removed]",
      "text/plain": [
       "<Figure size 640x480 with 1 Axes>"
      ]
     },
     "metadata": {},
     "output_type": "display_data"
    }
   ],
   "source": [
    "df = pd.merge(df_episode_t, df_icd10Kapittel, how='left', left_on=['tilst1akse3'], right_on=['KodeID'])\n",
    "df['tilst1akse3Grp'] =  np.where(df['Niva1ID'].isnull(), df['tilst1akse3'], df['Niva1ID']) \n",
    "df_episode_t['tilst1akse3Grp']  = df[['tilst1akse3Grp']]#.apply(condense_category,min_freq=0.05, axis=0)\n",
    "df_episode_t.tilst1akse3Grp.value_counts().plot(kind='barh')"
   ]
  },
  {
   "cell_type": "code",
   "execution_count": 220,
   "id": "67ea5867",
   "metadata": {},
   "outputs": [],
   "source": [
    "#df_episode_t[\"tilst3akse1Grp\"] = df_episode_t.tilst3akse1Grp.map(m)\n",
    "#df_episode_t.tilst3akse1Grp.value_counts().plot(kind='barh')"
   ]
  },
  {
   "cell_type": "code",
   "execution_count": 221,
   "id": "de40bdd5-04fd-498f-848a-429893493b8d",
   "metadata": {},
   "outputs": [
    {
     "name": "stderr",
     "output_type": "stream",
     "text": [
      "/home/ihelse.net/adm_mounir/source/repos/dsc_hvikt_synthdata/notebooks/exploratory/functions.py:32: FutureWarning: pandas.value_counts is deprecated and will be removed in a future version. Use pd.Series(obj).value_counts() instead.\n",
      "  series = pd.value_counts(col)\n"
     ]
    },
    {
     "data": {
      "text/plain": [
       "<Axes: ylabel='tilst1akse4Grp'>"
      ]
     },
     "execution_count": 221,
     "metadata": {},
     "output_type": "execute_result"
    },
    {
     "data": {
      "image/png": "[encoded data removed]",
      "text/plain": [
       "<Figure size 640x480 with 1 Axes>"
      ]
     },
     "metadata": {},
     "output_type": "display_data"
    }
   ],
   "source": [
    "df = pd.merge(df_episode_t, df_icd10Kapittel, how='left', left_on=['tilst1akse4'], right_on=['KodeID'])\n",
    "df['tilst1akse4Grp'] =  np.where(df['Niva1ID'].isnull(), df['tilst1akse4'], df['Niva1ID']) \n",
    "df_episode_t['tilst1akse4Grp']  = df[['tilst1akse4Grp']].apply(condense_category,min_freq=0.01, axis=0)\n",
    "df_episode_t.tilst1akse4Grp.value_counts().plot(kind='barh')\n"
   ]
  },
  {
   "cell_type": "code",
   "execution_count": 222,
   "id": "5c9231d7-2137-4697-a9a5-37606f51ac11",
   "metadata": {},
   "outputs": [
    {
     "name": "stderr",
     "output_type": "stream",
     "text": [
      "/home/ihelse.net/adm_mounir/source/repos/dsc_hvikt_synthdata/notebooks/exploratory/functions.py:32: FutureWarning: pandas.value_counts is deprecated and will be removed in a future version. Use pd.Series(obj).value_counts() instead.\n",
      "  series = pd.value_counts(col)\n"
     ]
    }
   ],
   "source": [
    "\n",
    "df = pd.merge(df_episode_t, df_Akse5koder, how='left', left_on=['tilst1akse5'], right_on=['KodeID'])\n",
    "df['tilst1akse5Grp'] =  np.where(df['Niva1ID'].isnull(), df['tilst1akse5'], df['Niva1ID']) \n",
    "df_episode_t['tilst1akse5Grp']  = df[['tilst1akse5Grp']].apply(condense_category,min_freq=0.001, axis=0)\n"
   ]
  },
  {
   "cell_type": "code",
   "execution_count": 223,
   "id": "3be812f2",
   "metadata": {},
   "outputs": [
    {
     "data": {
      "text/plain": [
       "<Axes: ylabel='tilst1akse5Grp'>"
      ]
     },
     "execution_count": 223,
     "metadata": {},
     "output_type": "execute_result"
    },
    {
     "data": {
      "image/png": "[encoded data removed]",
      "text/plain": [
       "<Figure size 640x480 with 1 Axes>"
      ]
     },
     "metadata": {},
     "output_type": "display_data"
    }
   ],
   "source": [
    "\n",
    "df_episode_t.tilst1akse5Grp.value_counts().plot(kind='barh')"
   ]
  },
  {
   "cell_type": "code",
   "execution_count": null,
   "id": "04f90edf",
   "metadata": {},
   "outputs": [],
   "source": []
  },
  {
   "cell_type": "code",
   "execution_count": 224,
   "id": "8851d2f2-5cd3-415f-89a1-38faa4a91845",
   "metadata": {},
   "outputs": [],
   "source": [
    "#df = pd.merge(df_episode_t, df_icd10Kapittel, how='left', left_on=['tilst1akse6'], right_on=['KodeID'])\n",
    "#df['tilst1akse6Grp'] =  np.where(df['Niva1ID'].isnull(), df['tilst1akse6'], df['Niva1ID']) \n",
    "df_episode_t['tilst1akse6']=df_episode_t['tilst1akse6'].replace('missing','6999')\n",
    "df_episode_t['tilst1akse6'] = df_episode_t['tilst1akse6'].astype(int)\n",
    "#df_episode_t['tilst1akse6Grp']  = df[['tilst1akse6Grp']]#.apply(condense_category,min_freq=0.01, axis=0)\n"
   ]
  },
  {
   "cell_type": "code",
   "execution_count": 225,
   "id": "673cf01c",
   "metadata": {},
   "outputs": [
    {
     "name": "stderr",
     "output_type": "stream",
     "text": [
      "/home/ihelse.net/adm_mounir/source/repos/dsc_hvikt_synthdata/notebooks/exploratory/functions.py:32: FutureWarning: pandas.value_counts is deprecated and will be removed in a future version. Use pd.Series(obj).value_counts() instead.\n",
      "  series = pd.value_counts(col)\n"
     ]
    },
    {
     "data": {
      "text/plain": [
       "<Axes: ylabel='tilst1akse6Grp'>"
      ]
     },
     "execution_count": 225,
     "metadata": {},
     "output_type": "execute_result"
    },
    {
     "data": {
      "image/png": "[encoded data removed]",
      "text/plain": [
       "<Figure size 640x480 with 1 Axes>"
      ]
     },
     "metadata": {},
     "output_type": "display_data"
    }
   ],
   "source": [
    "\n",
    "bins = [0,1,11,21,31, 41,51,61,71,81,91,101,6001,7001]\n",
    "labels = ['0','1-10', '11-20', '21-30','31-40','41-50','51-60','61-70','71-80','81-90','91-100','6000','6999']\n",
    "df_episode_t['tilst1akse6Grp'] = pd.cut(df_episode_t.tilst1akse6, bins, labels = labels,include_lowest = True)\n",
    "df_episode_t['tilst1akse6Grp']  = df_episode_t[['tilst1akse6Grp']].apply(condense_category,min_freq=0.01, axis=0)\n",
    "df_episode_t.tilst1akse6Grp.value_counts().plot(kind='barh')"
   ]
  },
  {
   "cell_type": "code",
   "execution_count": 226,
   "id": "a9f707f9-c4c1-42ee-aaab-ef186fe8fd1b",
   "metadata": {},
   "outputs": [
    {
     "name": "stdout",
     "output_type": "stream",
     "text": [
      "<class 'pandas.core.frame.DataFrame'>\n",
      "RangeIndex: 73134 entries, 0 to 73133\n",
      "Data columns (total 57 columns):\n",
      " #   Column                Non-Null Count  Dtype         \n",
      "---  ------                --------------  -----         \n",
      " 0   episode_order         73134 non-null  int64         \n",
      " 1   henvisningsperiodeID  73134 non-null  int64         \n",
      " 2   episodeID             73134 non-null  int64         \n",
      " 3   innDatoTid            73134 non-null  datetime64[ns]\n",
      " 4   utDatoTid             73134 non-null  datetime64[ns]\n",
      " 5   ReshID_Avdeling       73134 non-null  object        \n",
      " 6   ReshID_Seksjon        73134 non-null  object        \n",
      " 7   kontaktType           73134 non-null  object        \n",
      " 8   polUtforende          73134 non-null  object        \n",
      " 9   spesialist            73134 non-null  object        \n",
      " 10  rolle                 73134 non-null  object        \n",
      " 11  tilst1akse1           73134 non-null  object        \n",
      " 12  tilst2akse1           73134 non-null  object        \n",
      " 13  tilst3akse1           73134 non-null  object        \n",
      " 14  tilst4akse1           73134 non-null  object        \n",
      " 15  tilst5akse1           73134 non-null  object        \n",
      " 16  tilst6akse1           73134 non-null  object        \n",
      " 17  tilst1akse2           73134 non-null  object        \n",
      " 18  tilst2akse2           73134 non-null  object        \n",
      " 19  tilst3akse2           73134 non-null  object        \n",
      " 20  tilst4akse2           73134 non-null  object        \n",
      " 21  tilst5akse2           73134 non-null  object        \n",
      " 22  tilst6akse2           73134 non-null  object        \n",
      " 23  tilst1akse3           73134 non-null  object        \n",
      " 24  tilst2akse3           73134 non-null  object        \n",
      " 25  tilst3akse3           73134 non-null  object        \n",
      " 26  tilst4akse3           73134 non-null  object        \n",
      " 27  tilst5akse3           73134 non-null  object        \n",
      " 28  tilst6akse3           73134 non-null  object        \n",
      " 29  tilst1akse4           73134 non-null  object        \n",
      " 30  tilst2akse4           73134 non-null  object        \n",
      " 31  tilst3akse4           73134 non-null  object        \n",
      " 32  tilst4akse4           73134 non-null  object        \n",
      " 33  tilst5akse4           73134 non-null  object        \n",
      " 34  tilst6akse4           73134 non-null  object        \n",
      " 35  tilst1akse5           73134 non-null  object        \n",
      " 36  tilst2akse5           73134 non-null  object        \n",
      " 37  tilst3akse5           73134 non-null  object        \n",
      " 38  tilst4akse5           73134 non-null  object        \n",
      " 39  tilst5akse5           73134 non-null  object        \n",
      " 40  tilst6akse5           73134 non-null  object        \n",
      " 41  tilst1akse6           73134 non-null  int64         \n",
      " 42  tilst2akse6           73134 non-null  object        \n",
      " 43  tilst3akse6           73134 non-null  object        \n",
      " 44  tilst4akse6           73134 non-null  object        \n",
      " 45  tilst5akse6           73134 non-null  object        \n",
      " 46  tilst6akse6           73134 non-null  object        \n",
      " 47  episode_varighet      73134 non-null  int64         \n",
      " 48  rolleGrp              73134 non-null  object        \n",
      " 49  polUtforendeGrp       73134 non-null  object        \n",
      " 50  kontaktTypeGrp        73134 non-null  object        \n",
      " 51  tilst1akse1Grp        73134 non-null  object        \n",
      " 52  tilst1akse2Grp        73134 non-null  object        \n",
      " 53  tilst1akse3Grp        73134 non-null  object        \n",
      " 54  tilst1akse4Grp        73134 non-null  object        \n",
      " 55  tilst1akse5Grp        73134 non-null  object        \n",
      " 56  tilst1akse6Grp        73134 non-null  object        \n",
      "dtypes: datetime64[ns](2), int64(5), object(50)\n",
      "memory usage: 31.8+ MB\n"
     ]
    }
   ],
   "source": [
    "df_episode_t.info()"
   ]
  },
  {
   "cell_type": "markdown",
   "id": "eae227ce-9424-4bee-a9b0-5aaf418d1e06",
   "metadata": {},
   "source": [
    "### Henvisningsperiode - Legg til Hoved Diagnose akse 1 til 5 føste og siste kontakt"
   ]
  },
  {
   "cell_type": "code",
   "execution_count": 227,
   "id": "e276b467-5be6-479e-9a48-40024bd394cc",
   "metadata": {},
   "outputs": [],
   "source": [
    "sorted_df = df_episode_t[['henvisningsperiodeID','episode_order','tilst1akse1Grp']].sort_values(by=['henvisningsperiodeID','episode_order'], ascending=True)\n",
    "g= sorted_df.groupby(['henvisningsperiodeID'])"
   ]
  },
  {
   "cell_type": "code",
   "execution_count": 228,
   "id": "7c68ede6-4b14-4a4f-98f8-e1c1c5863741",
   "metadata": {},
   "outputs": [
    {
     "data": {
      "text/html": [
       "<div>\n",
       "<style scoped>\n",
       "    .dataframe tbody tr th:only-of-type {\n",
       "        vertical-align: middle;\n",
       "    }\n",
       "\n",
       "    .dataframe tbody tr th {\n",
       "        vertical-align: top;\n",
       "    }\n",
       "\n",
       "    .dataframe thead th {\n",
       "        text-align: right;\n",
       "    }\n",
       "</style>\n",
       "<table border=\"1\" class=\"dataframe\">\n",
       "  <thead>\n",
       "    <tr style=\"text-align: right;\">\n",
       "      <th></th>\n",
       "      <th>pasientNr</th>\n",
       "      <th>henvisningsperiodeID</th>\n",
       "      <th>sluttDato</th>\n",
       "      <th>ansienDato</th>\n",
       "      <th>henvisnigsperiode_varighet</th>\n",
       "      <th>antall_kontakter</th>\n",
       "      <th>episode_varighet</th>\n",
       "      <th>tilst1akse1GrpFirst</th>\n",
       "      <th>tilst1akse1GrpLast</th>\n",
       "    </tr>\n",
       "  </thead>\n",
       "  <tbody>\n",
       "    <tr>\n",
       "      <th>0</th>\n",
       "      <td>1001395</td>\n",
       "      <td>7386305</td>\n",
       "      <td>2016-06-07</td>\n",
       "      <td>2011-11-17</td>\n",
       "      <td>1664</td>\n",
       "      <td>3</td>\n",
       "      <td>20.0</td>\n",
       "      <td>1999</td>\n",
       "      <td>1999</td>\n",
       "    </tr>\n",
       "    <tr>\n",
       "      <th>1</th>\n",
       "      <td>1623992</td>\n",
       "      <td>7386308</td>\n",
       "      <td>2015-06-24</td>\n",
       "      <td>2011-11-25</td>\n",
       "      <td>1307</td>\n",
       "      <td>1</td>\n",
       "      <td>30.0</td>\n",
       "      <td>F90-F98</td>\n",
       "      <td>F90-F98</td>\n",
       "    </tr>\n",
       "    <tr>\n",
       "      <th>2</th>\n",
       "      <td>1582152</td>\n",
       "      <td>7386309</td>\n",
       "      <td>2018-01-04</td>\n",
       "      <td>2011-11-30</td>\n",
       "      <td>2227</td>\n",
       "      <td>1</td>\n",
       "      <td>60.0</td>\n",
       "      <td>F90-F98</td>\n",
       "      <td>F90-F98</td>\n",
       "    </tr>\n",
       "    <tr>\n",
       "      <th>3</th>\n",
       "      <td>1350364</td>\n",
       "      <td>7386314</td>\n",
       "      <td>2017-06-20</td>\n",
       "      <td>2011-12-08</td>\n",
       "      <td>2021</td>\n",
       "      <td>1</td>\n",
       "      <td>90.0</td>\n",
       "      <td>F90-F98</td>\n",
       "      <td>F90-F98</td>\n",
       "    </tr>\n",
       "    <tr>\n",
       "      <th>4</th>\n",
       "      <td>1791950</td>\n",
       "      <td>7386316</td>\n",
       "      <td>2015-01-28</td>\n",
       "      <td>2011-12-12</td>\n",
       "      <td>1143</td>\n",
       "      <td>1</td>\n",
       "      <td>20.0</td>\n",
       "      <td>F90-F98</td>\n",
       "      <td>F90-F98</td>\n",
       "    </tr>\n",
       "  </tbody>\n",
       "</table>\n",
       "</div>"
      ],
      "text/plain": [
       "   pasientNr  henvisningsperiodeID  sluttDato ansienDato  \\\n",
       "0    1001395               7386305 2016-06-07 2011-11-17   \n",
       "1    1623992               7386308 2015-06-24 2011-11-25   \n",
       "2    1582152               7386309 2018-01-04 2011-11-30   \n",
       "3    1350364               7386314 2017-06-20 2011-12-08   \n",
       "4    1791950               7386316 2015-01-28 2011-12-12   \n",
       "\n",
       "   henvisnigsperiode_varighet  antall_kontakter  episode_varighet  \\\n",
       "0                        1664                 3              20.0   \n",
       "1                        1307                 1              30.0   \n",
       "2                        2227                 1              60.0   \n",
       "3                        2021                 1              90.0   \n",
       "4                        1143                 1              20.0   \n",
       "\n",
       "  tilst1akse1GrpFirst tilst1akse1GrpLast  \n",
       "0                1999               1999  \n",
       "1             F90-F98            F90-F98  \n",
       "2             F90-F98            F90-F98  \n",
       "3             F90-F98            F90-F98  \n",
       "4             F90-F98            F90-F98  "
      ]
     },
     "execution_count": 228,
     "metadata": {},
     "output_type": "execute_result"
    }
   ],
   "source": [
    "## First\n",
    "sorted_df = df_episode_t[['henvisningsperiodeID','episode_order','tilst1akse1Grp']].sort_values(by=['henvisningsperiodeID','episode_order'], ascending=True)\n",
    "g= sorted_df.groupby(['henvisningsperiodeID'])\n",
    "\n",
    "df = g.head(1)[['henvisningsperiodeID','tilst1akse1Grp']]\n",
    "df_henvisningsperiode_t = pd.merge(df_henvisningsperiode_t, df, how='left',on=['henvisningsperiodeID'])\n",
    "\n",
    "df_henvisningsperiode_t.rename(columns={'tilst1akse1Grp': 'tilst1akse1GrpFirst'}, inplace=True)\n",
    "\n",
    "### Last\n",
    "df = g.tail(1)[['henvisningsperiodeID','tilst1akse1Grp']]\n",
    "df_henvisningsperiode_t = pd.merge(df_henvisningsperiode_t, df, how='left',on=['henvisningsperiodeID'])\n",
    "\n",
    "df_henvisningsperiode_t.rename(columns={'tilst1akse1Grp': 'tilst1akse1GrpLast'}, inplace=True)\n",
    "df_henvisningsperiode_t.head()"
   ]
  },
  {
   "cell_type": "code",
   "execution_count": 229,
   "id": "485fd4da-d297-463f-a8fd-1366fa319655",
   "metadata": {},
   "outputs": [
    {
     "name": "stdout",
     "output_type": "stream",
     "text": [
      "<class 'pandas.core.frame.DataFrame'>\n",
      "RangeIndex: 7730 entries, 0 to 7729\n",
      "Data columns (total 11 columns):\n",
      " #   Column                      Non-Null Count  Dtype         \n",
      "---  ------                      --------------  -----         \n",
      " 0   pasientNr                   7730 non-null   int64         \n",
      " 1   henvisningsperiodeID        7730 non-null   int64         \n",
      " 2   sluttDato                   7730 non-null   datetime64[ns]\n",
      " 3   ansienDato                  7730 non-null   datetime64[ns]\n",
      " 4   henvisnigsperiode_varighet  7730 non-null   int64         \n",
      " 5   antall_kontakter            7730 non-null   int64         \n",
      " 6   episode_varighet            7730 non-null   float64       \n",
      " 7   tilst1akse1GrpFirst         7730 non-null   object        \n",
      " 8   tilst1akse1GrpLast          7730 non-null   object        \n",
      " 9   tilst1akse2GrpFirst         7730 non-null   object        \n",
      " 10  tilst1akse2GrpLast          7730 non-null   object        \n",
      "dtypes: datetime64[ns](2), float64(1), int64(4), object(4)\n",
      "memory usage: 664.4+ KB\n"
     ]
    }
   ],
   "source": [
    "## First\n",
    "col = 'tilst1akse2Grp'\n",
    "sorted_df = df_episode_t[['henvisningsperiodeID','episode_order',col]].sort_values(by=['henvisningsperiodeID','episode_order'], ascending=True)\n",
    "g= sorted_df.groupby(['henvisningsperiodeID'])\n",
    "df = g.head(1)[['henvisningsperiodeID',col]]\n",
    "df_henvisningsperiode_t = pd.merge(df_henvisningsperiode_t, df, how='left',on=['henvisningsperiodeID'])\n",
    "\n",
    "df_henvisningsperiode_t.rename(columns={col: col+ 'First'}, inplace=True)\n",
    "\n",
    "### Last\n",
    "df = g.tail(1)[['henvisningsperiodeID',col]]\n",
    "df_henvisningsperiode_t = pd.merge(df_henvisningsperiode_t, df, how='left',on=['henvisningsperiodeID'])\n",
    "\n",
    "df_henvisningsperiode_t.rename(columns={col: col+'Last'}, inplace=True)\n",
    "df_henvisningsperiode_t.info()"
   ]
  },
  {
   "cell_type": "code",
   "execution_count": 230,
   "id": "1b4b9528-8b26-4a38-a78a-c8971ec8a6ae",
   "metadata": {},
   "outputs": [
    {
     "name": "stdout",
     "output_type": "stream",
     "text": [
      "<class 'pandas.core.frame.DataFrame'>\n",
      "RangeIndex: 7730 entries, 0 to 7729\n",
      "Data columns (total 13 columns):\n",
      " #   Column                      Non-Null Count  Dtype         \n",
      "---  ------                      --------------  -----         \n",
      " 0   pasientNr                   7730 non-null   int64         \n",
      " 1   henvisningsperiodeID        7730 non-null   int64         \n",
      " 2   sluttDato                   7730 non-null   datetime64[ns]\n",
      " 3   ansienDato                  7730 non-null   datetime64[ns]\n",
      " 4   henvisnigsperiode_varighet  7730 non-null   int64         \n",
      " 5   antall_kontakter            7730 non-null   int64         \n",
      " 6   episode_varighet            7730 non-null   float64       \n",
      " 7   tilst1akse1GrpFirst         7730 non-null   object        \n",
      " 8   tilst1akse1GrpLast          7730 non-null   object        \n",
      " 9   tilst1akse2GrpFirst         7730 non-null   object        \n",
      " 10  tilst1akse2GrpLast          7730 non-null   object        \n",
      " 11  tilst1akse3GrpFirst         7730 non-null   object        \n",
      " 12  tilst1akse3GrpLast          7730 non-null   object        \n",
      "dtypes: datetime64[ns](2), float64(1), int64(4), object(6)\n",
      "memory usage: 785.2+ KB\n"
     ]
    }
   ],
   "source": [
    "## First\n",
    "col = 'tilst1akse3Grp'\n",
    "sorted_df = df_episode_t[['henvisningsperiodeID','episode_order',col]].sort_values(by=['henvisningsperiodeID','episode_order'], ascending=True)\n",
    "g= sorted_df.groupby(['henvisningsperiodeID'])\n",
    "df = g.head(1)[['henvisningsperiodeID',col]]\n",
    "df_henvisningsperiode_t = pd.merge(df_henvisningsperiode_t, df, how='left',on=['henvisningsperiodeID'])\n",
    "\n",
    "df_henvisningsperiode_t.rename(columns={col: col+ 'First'}, inplace=True)\n",
    "\n",
    "### Last\n",
    "df = g.tail(1)[['henvisningsperiodeID',col]]\n",
    "df_henvisningsperiode_t = pd.merge(df_henvisningsperiode_t, df, how='left',on=['henvisningsperiodeID'])\n",
    "\n",
    "df_henvisningsperiode_t.rename(columns={col: col+'Last'}, inplace=True)\n",
    "df_henvisningsperiode_t.info()"
   ]
  },
  {
   "cell_type": "code",
   "execution_count": 231,
   "id": "9db34557-2f94-4d35-8f27-6df37e19fd8a",
   "metadata": {},
   "outputs": [
    {
     "name": "stdout",
     "output_type": "stream",
     "text": [
      "<class 'pandas.core.frame.DataFrame'>\n",
      "RangeIndex: 7730 entries, 0 to 7729\n",
      "Data columns (total 15 columns):\n",
      " #   Column                      Non-Null Count  Dtype         \n",
      "---  ------                      --------------  -----         \n",
      " 0   pasientNr                   7730 non-null   int64         \n",
      " 1   henvisningsperiodeID        7730 non-null   int64         \n",
      " 2   sluttDato                   7730 non-null   datetime64[ns]\n",
      " 3   ansienDato                  7730 non-null   datetime64[ns]\n",
      " 4   henvisnigsperiode_varighet  7730 non-null   int64         \n",
      " 5   antall_kontakter            7730 non-null   int64         \n",
      " 6   episode_varighet            7730 non-null   float64       \n",
      " 7   tilst1akse1GrpFirst         7730 non-null   object        \n",
      " 8   tilst1akse1GrpLast          7730 non-null   object        \n",
      " 9   tilst1akse2GrpFirst         7730 non-null   object        \n",
      " 10  tilst1akse2GrpLast          7730 non-null   object        \n",
      " 11  tilst1akse3GrpFirst         7730 non-null   object        \n",
      " 12  tilst1akse3GrpLast          7730 non-null   object        \n",
      " 13  tilst1akse4GrpFirst         7730 non-null   object        \n",
      " 14  tilst1akse4GrpLast          7730 non-null   object        \n",
      "dtypes: datetime64[ns](2), float64(1), int64(4), object(8)\n",
      "memory usage: 906.0+ KB\n"
     ]
    }
   ],
   "source": [
    "## First\n",
    "col = 'tilst1akse4Grp'\n",
    "sorted_df = df_episode_t[['henvisningsperiodeID','episode_order',col]].sort_values(by=['henvisningsperiodeID','episode_order'], ascending=True)\n",
    "g= sorted_df.groupby(['henvisningsperiodeID'])\n",
    "df = g.head(1)[['henvisningsperiodeID',col]]\n",
    "df_henvisningsperiode_t = pd.merge(df_henvisningsperiode_t, df, how='left',on=['henvisningsperiodeID'])\n",
    "\n",
    "df_henvisningsperiode_t.rename(columns={col: col+ 'First'}, inplace=True)\n",
    "\n",
    "### Last\n",
    "df = g.tail(1)[['henvisningsperiodeID',col]]\n",
    "df_henvisningsperiode_t = pd.merge(df_henvisningsperiode_t, df, how='left',on=['henvisningsperiodeID'])\n",
    "\n",
    "df_henvisningsperiode_t.rename(columns={col: col+'Last'}, inplace=True)\n",
    "df_henvisningsperiode_t.info()"
   ]
  },
  {
   "cell_type": "code",
   "execution_count": 232,
   "id": "85d7c236-9c97-4e74-ac31-57d95945da24",
   "metadata": {},
   "outputs": [
    {
     "name": "stdout",
     "output_type": "stream",
     "text": [
      "<class 'pandas.core.frame.DataFrame'>\n",
      "RangeIndex: 7730 entries, 0 to 7729\n",
      "Data columns (total 17 columns):\n",
      " #   Column                      Non-Null Count  Dtype         \n",
      "---  ------                      --------------  -----         \n",
      " 0   pasientNr                   7730 non-null   int64         \n",
      " 1   henvisningsperiodeID        7730 non-null   int64         \n",
      " 2   sluttDato                   7730 non-null   datetime64[ns]\n",
      " 3   ansienDato                  7730 non-null   datetime64[ns]\n",
      " 4   henvisnigsperiode_varighet  7730 non-null   int64         \n",
      " 5   antall_kontakter            7730 non-null   int64         \n",
      " 6   episode_varighet            7730 non-null   float64       \n",
      " 7   tilst1akse1GrpFirst         7730 non-null   object        \n",
      " 8   tilst1akse1GrpLast          7730 non-null   object        \n",
      " 9   tilst1akse2GrpFirst         7730 non-null   object        \n",
      " 10  tilst1akse2GrpLast          7730 non-null   object        \n",
      " 11  tilst1akse3GrpFirst         7730 non-null   object        \n",
      " 12  tilst1akse3GrpLast          7730 non-null   object        \n",
      " 13  tilst1akse4GrpFirst         7730 non-null   object        \n",
      " 14  tilst1akse4GrpLast          7730 non-null   object        \n",
      " 15  tilst1akse5GrpFirst         7730 non-null   object        \n",
      " 16  tilst1akse5GrpLast          7730 non-null   object        \n",
      "dtypes: datetime64[ns](2), float64(1), int64(4), object(10)\n",
      "memory usage: 1.0+ MB\n"
     ]
    }
   ],
   "source": [
    "## First\n",
    "col = 'tilst1akse5Grp'\n",
    "sorted_df = df_episode_t[['henvisningsperiodeID','episode_order',col]].sort_values(by=['henvisningsperiodeID','episode_order'], ascending=True)\n",
    "g= sorted_df.groupby(['henvisningsperiodeID'])\n",
    "df = g.head(1)[['henvisningsperiodeID',col]]\n",
    "df_henvisningsperiode_t = pd.merge(df_henvisningsperiode_t, df, how='left',on=['henvisningsperiodeID'])\n",
    "\n",
    "df_henvisningsperiode_t.rename(columns={col: col+ 'First'}, inplace=True)\n",
    "\n",
    "### Last\n",
    "df = g.tail(1)[['henvisningsperiodeID',col]]\n",
    "df_henvisningsperiode_t = pd.merge(df_henvisningsperiode_t, df, how='left',on=['henvisningsperiodeID'])\n",
    "\n",
    "df_henvisningsperiode_t.rename(columns={col: col+'Last'}, inplace=True)\n",
    "df_henvisningsperiode_t.info()"
   ]
  },
  {
   "cell_type": "code",
   "execution_count": 233,
   "id": "dc71e2ad",
   "metadata": {},
   "outputs": [
    {
     "name": "stdout",
     "output_type": "stream",
     "text": [
      "<class 'pandas.core.frame.DataFrame'>\n",
      "RangeIndex: 7730 entries, 0 to 7729\n",
      "Data columns (total 19 columns):\n",
      " #   Column                      Non-Null Count  Dtype         \n",
      "---  ------                      --------------  -----         \n",
      " 0   pasientNr                   7730 non-null   int64         \n",
      " 1   henvisningsperiodeID        7730 non-null   int64         \n",
      " 2   sluttDato                   7730 non-null   datetime64[ns]\n",
      " 3   ansienDato                  7730 non-null   datetime64[ns]\n",
      " 4   henvisnigsperiode_varighet  7730 non-null   int64         \n",
      " 5   antall_kontakter            7730 non-null   int64         \n",
      " 6   episode_varighet            7730 non-null   float64       \n",
      " 7   tilst1akse1GrpFirst         7730 non-null   object        \n",
      " 8   tilst1akse1GrpLast          7730 non-null   object        \n",
      " 9   tilst1akse2GrpFirst         7730 non-null   object        \n",
      " 10  tilst1akse2GrpLast          7730 non-null   object        \n",
      " 11  tilst1akse3GrpFirst         7730 non-null   object        \n",
      " 12  tilst1akse3GrpLast          7730 non-null   object        \n",
      " 13  tilst1akse4GrpFirst         7730 non-null   object        \n",
      " 14  tilst1akse4GrpLast          7730 non-null   object        \n",
      " 15  tilst1akse5GrpFirst         7730 non-null   object        \n",
      " 16  tilst1akse5GrpLast          7730 non-null   object        \n",
      " 17  tilst1akse6GrpFirst         7730 non-null   object        \n",
      " 18  tilst1akse6GrpLast          7730 non-null   object        \n",
      "dtypes: datetime64[ns](2), float64(1), int64(4), object(12)\n",
      "memory usage: 1.1+ MB\n"
     ]
    }
   ],
   "source": [
    "## First\n",
    "col = 'tilst1akse6Grp'\n",
    "sorted_df = df_episode_t[['henvisningsperiodeID','episode_order',col]].sort_values(by=['henvisningsperiodeID','episode_order'], ascending=True)\n",
    "g= sorted_df.groupby(['henvisningsperiodeID'])\n",
    "df = g.head(1)[['henvisningsperiodeID',col]]\n",
    "df_henvisningsperiode_t = pd.merge(df_henvisningsperiode_t, df, how='left',on=['henvisningsperiodeID'])\n",
    "\n",
    "df_henvisningsperiode_t.rename(columns={col: col+ 'First'}, inplace=True)\n",
    "\n",
    "### Last\n",
    "df = g.tail(1)[['henvisningsperiodeID',col]]\n",
    "df_henvisningsperiode_t = pd.merge(df_henvisningsperiode_t, df, how='left',on=['henvisningsperiodeID'])\n",
    "\n",
    "df_henvisningsperiode_t.rename(columns={col: col+'Last'}, inplace=True)\n",
    "df_henvisningsperiode_t.info()"
   ]
  },
  {
   "cell_type": "markdown",
   "id": "28116d73-8ba7-4231-b17f-18e6c5505e7a",
   "metadata": {},
   "source": [
    "### Add Polutførende"
   ]
  },
  {
   "cell_type": "code",
   "execution_count": 234,
   "id": "0ef2d4c6-57e4-409e-a772-f533d6748f06",
   "metadata": {},
   "outputs": [
    {
     "name": "stdout",
     "output_type": "stream",
     "text": [
      "<class 'pandas.core.frame.DataFrame'>\n",
      "RangeIndex: 73134 entries, 0 to 73133\n",
      "Data columns (total 57 columns):\n",
      " #   Column                Non-Null Count  Dtype         \n",
      "---  ------                --------------  -----         \n",
      " 0   episode_order         73134 non-null  int64         \n",
      " 1   henvisningsperiodeID  73134 non-null  int64         \n",
      " 2   episodeID             73134 non-null  int64         \n",
      " 3   innDatoTid            73134 non-null  datetime64[ns]\n",
      " 4   utDatoTid             73134 non-null  datetime64[ns]\n",
      " 5   ReshID_Avdeling       73134 non-null  object        \n",
      " 6   ReshID_Seksjon        73134 non-null  object        \n",
      " 7   kontaktType           73134 non-null  object        \n",
      " 8   polUtforende          73134 non-null  object        \n",
      " 9   spesialist            73134 non-null  object        \n",
      " 10  rolle                 73134 non-null  object        \n",
      " 11  tilst1akse1           73134 non-null  object        \n",
      " 12  tilst2akse1           73134 non-null  object        \n",
      " 13  tilst3akse1           73134 non-null  object        \n",
      " 14  tilst4akse1           73134 non-null  object        \n",
      " 15  tilst5akse1           73134 non-null  object        \n",
      " 16  tilst6akse1           73134 non-null  object        \n",
      " 17  tilst1akse2           73134 non-null  object        \n",
      " 18  tilst2akse2           73134 non-null  object        \n",
      " 19  tilst3akse2           73134 non-null  object        \n",
      " 20  tilst4akse2           73134 non-null  object        \n",
      " 21  tilst5akse2           73134 non-null  object        \n",
      " 22  tilst6akse2           73134 non-null  object        \n",
      " 23  tilst1akse3           73134 non-null  object        \n",
      " 24  tilst2akse3           73134 non-null  object        \n",
      " 25  tilst3akse3           73134 non-null  object        \n",
      " 26  tilst4akse3           73134 non-null  object        \n",
      " 27  tilst5akse3           73134 non-null  object        \n",
      " 28  tilst6akse3           73134 non-null  object        \n",
      " 29  tilst1akse4           73134 non-null  object        \n",
      " 30  tilst2akse4           73134 non-null  object        \n",
      " 31  tilst3akse4           73134 non-null  object        \n",
      " 32  tilst4akse4           73134 non-null  object        \n",
      " 33  tilst5akse4           73134 non-null  object        \n",
      " 34  tilst6akse4           73134 non-null  object        \n",
      " 35  tilst1akse5           73134 non-null  object        \n",
      " 36  tilst2akse5           73134 non-null  object        \n",
      " 37  tilst3akse5           73134 non-null  object        \n",
      " 38  tilst4akse5           73134 non-null  object        \n",
      " 39  tilst5akse5           73134 non-null  object        \n",
      " 40  tilst6akse5           73134 non-null  object        \n",
      " 41  tilst1akse6           73134 non-null  int64         \n",
      " 42  tilst2akse6           73134 non-null  object        \n",
      " 43  tilst3akse6           73134 non-null  object        \n",
      " 44  tilst4akse6           73134 non-null  object        \n",
      " 45  tilst5akse6           73134 non-null  object        \n",
      " 46  tilst6akse6           73134 non-null  object        \n",
      " 47  episode_varighet      73134 non-null  int64         \n",
      " 48  rolleGrp              73134 non-null  object        \n",
      " 49  polUtforendeGrp       73134 non-null  object        \n",
      " 50  kontaktTypeGrp        73134 non-null  object        \n",
      " 51  tilst1akse1Grp        73134 non-null  object        \n",
      " 52  tilst1akse2Grp        73134 non-null  object        \n",
      " 53  tilst1akse3Grp        73134 non-null  object        \n",
      " 54  tilst1akse4Grp        73134 non-null  object        \n",
      " 55  tilst1akse5Grp        73134 non-null  object        \n",
      " 56  tilst1akse6Grp        73134 non-null  object        \n",
      "dtypes: datetime64[ns](2), int64(5), object(50)\n",
      "memory usage: 31.8+ MB\n"
     ]
    }
   ],
   "source": [
    "df_episode_t.info()"
   ]
  },
  {
   "cell_type": "code",
   "execution_count": 235,
   "id": "3d052224-423a-42ed-ae8e-675d69b23029",
   "metadata": {},
   "outputs": [],
   "source": [
    "df = pd.get_dummies(df_episode_t, columns=['polUtforendeGrp'])"
   ]
  },
  {
   "cell_type": "code",
   "execution_count": 236,
   "id": "d4e3d7c8-e333-4a7b-bb02-f60b904a563e",
   "metadata": {},
   "outputs": [
    {
     "data": {
      "text/plain": [
       "Index(['episode_order', 'henvisningsperiodeID', 'episodeID', 'innDatoTid',\n",
       "       'utDatoTid', 'ReshID_Avdeling', 'ReshID_Seksjon', 'kontaktType',\n",
       "       'polUtforende', 'spesialist', 'rolle', 'tilst1akse1', 'tilst2akse1',\n",
       "       'tilst3akse1', 'tilst4akse1', 'tilst5akse1', 'tilst6akse1',\n",
       "       'tilst1akse2', 'tilst2akse2', 'tilst3akse2', 'tilst4akse2',\n",
       "       'tilst5akse2', 'tilst6akse2', 'tilst1akse3', 'tilst2akse3',\n",
       "       'tilst3akse3', 'tilst4akse3', 'tilst5akse3', 'tilst6akse3',\n",
       "       'tilst1akse4', 'tilst2akse4', 'tilst3akse4', 'tilst4akse4',\n",
       "       'tilst5akse4', 'tilst6akse4', 'tilst1akse5', 'tilst2akse5',\n",
       "       'tilst3akse5', 'tilst4akse5', 'tilst5akse5', 'tilst6akse5',\n",
       "       'tilst1akse6', 'tilst2akse6', 'tilst3akse6', 'tilst4akse6',\n",
       "       'tilst5akse6', 'tilst6akse6', 'episode_varighet', 'rolleGrp',\n",
       "       'kontaktTypeGrp', 'tilst1akse1Grp', 'tilst1akse2Grp', 'tilst1akse3Grp',\n",
       "       'tilst1akse4Grp', 'tilst1akse5Grp', 'tilst1akse6Grp',\n",
       "       'polUtforendeGrp_Annet_helsepersonell', 'polUtforendeGrp_Lege',\n",
       "       'polUtforendeGrp_Psykolog', 'polUtforendeGrp_Sosionom'],\n",
       "      dtype='object')"
      ]
     },
     "execution_count": 236,
     "metadata": {},
     "output_type": "execute_result"
    }
   ],
   "source": [
    "df.columns"
   ]
  },
  {
   "cell_type": "code",
   "execution_count": 237,
   "id": "7e42f0c5-a1a5-4ab8-9c1b-dce746e0a0b3",
   "metadata": {},
   "outputs": [],
   "source": [
    "df_henvisninger_res =df.groupby(['henvisningsperiodeID']).agg({\n",
    "#'kontaktTypeGrp_Direkte_pasientkontakt':'sum'\n",
    "#,'kontaktTypeGrp_Indirekte_pasientkontakt':'sum'\n",
    "'polUtforendeGrp_Lege':'sum'\n",
    ",'polUtforendeGrp_Annet_helsepersonell':'sum'                                        \n",
    "                                    \n",
    ",'polUtforendeGrp_Psykolog':'sum'                                         \n",
    ",'polUtforendeGrp_Sosionom':'sum'                                     \n",
    ",'polUtforendeGrp_Annet_helsepersonell':'sum' \n",
    "    ,'polUtforendeGrp_Annet_helsepersonell':'sum'  \n",
    ",'polUtforendeGrp_Annet_helsepersonell':'sum'  \n",
    ",'polUtforendeGrp_Annet_helsepersonell':'sum'  \n",
    "\n",
    "#,'rolle_Ansvarlig':'sum'                                         \n",
    "#,'rolle_kontakt':'sum'                                         \n",
    "                                         \n",
    "                                         \n",
    "                                         \n",
    "                                         })"
   ]
  },
  {
   "cell_type": "code",
   "execution_count": 238,
   "id": "c6d7f14d",
   "metadata": {},
   "outputs": [
    {
     "data": {
      "text/html": [
       "<div>\n",
       "<style scoped>\n",
       "    .dataframe tbody tr th:only-of-type {\n",
       "        vertical-align: middle;\n",
       "    }\n",
       "\n",
       "    .dataframe tbody tr th {\n",
       "        vertical-align: top;\n",
       "    }\n",
       "\n",
       "    .dataframe thead th {\n",
       "        text-align: right;\n",
       "    }\n",
       "</style>\n",
       "<table border=\"1\" class=\"dataframe\">\n",
       "  <thead>\n",
       "    <tr style=\"text-align: right;\">\n",
       "      <th></th>\n",
       "      <th>polUtforendeGrp_Lege</th>\n",
       "      <th>polUtforendeGrp_Annet_helsepersonell</th>\n",
       "      <th>polUtforendeGrp_Psykolog</th>\n",
       "      <th>polUtforendeGrp_Sosionom</th>\n",
       "    </tr>\n",
       "    <tr>\n",
       "      <th>henvisningsperiodeID</th>\n",
       "      <th></th>\n",
       "      <th></th>\n",
       "      <th></th>\n",
       "      <th></th>\n",
       "    </tr>\n",
       "  </thead>\n",
       "  <tbody>\n",
       "    <tr>\n",
       "      <th>7386305</th>\n",
       "      <td>0</td>\n",
       "      <td>3</td>\n",
       "      <td>0</td>\n",
       "      <td>0</td>\n",
       "    </tr>\n",
       "    <tr>\n",
       "      <th>7386308</th>\n",
       "      <td>0</td>\n",
       "      <td>0</td>\n",
       "      <td>0</td>\n",
       "      <td>1</td>\n",
       "    </tr>\n",
       "    <tr>\n",
       "      <th>7386309</th>\n",
       "      <td>0</td>\n",
       "      <td>0</td>\n",
       "      <td>1</td>\n",
       "      <td>0</td>\n",
       "    </tr>\n",
       "    <tr>\n",
       "      <th>7386314</th>\n",
       "      <td>0</td>\n",
       "      <td>0</td>\n",
       "      <td>1</td>\n",
       "      <td>0</td>\n",
       "    </tr>\n",
       "    <tr>\n",
       "      <th>7386316</th>\n",
       "      <td>0</td>\n",
       "      <td>1</td>\n",
       "      <td>0</td>\n",
       "      <td>0</td>\n",
       "    </tr>\n",
       "  </tbody>\n",
       "</table>\n",
       "</div>"
      ],
      "text/plain": [
       "                      polUtforendeGrp_Lege  \\\n",
       "henvisningsperiodeID                         \n",
       "7386305                                  0   \n",
       "7386308                                  0   \n",
       "7386309                                  0   \n",
       "7386314                                  0   \n",
       "7386316                                  0   \n",
       "\n",
       "                      polUtforendeGrp_Annet_helsepersonell  \\\n",
       "henvisningsperiodeID                                         \n",
       "7386305                                                  3   \n",
       "7386308                                                  0   \n",
       "7386309                                                  0   \n",
       "7386314                                                  0   \n",
       "7386316                                                  1   \n",
       "\n",
       "                      polUtforendeGrp_Psykolog  polUtforendeGrp_Sosionom  \n",
       "henvisningsperiodeID                                                      \n",
       "7386305                                      0                         0  \n",
       "7386308                                      0                         1  \n",
       "7386309                                      1                         0  \n",
       "7386314                                      1                         0  \n",
       "7386316                                      0                         0  "
      ]
     },
     "execution_count": 238,
     "metadata": {},
     "output_type": "execute_result"
    }
   ],
   "source": [
    "df_henvisninger_res.head()"
   ]
  },
  {
   "cell_type": "code",
   "execution_count": 239,
   "id": "27ceca2f-826f-4967-8e38-748b1c2e2582",
   "metadata": {},
   "outputs": [
    {
     "data": {
      "text/html": [
       "<div>\n",
       "<style scoped>\n",
       "    .dataframe tbody tr th:only-of-type {\n",
       "        vertical-align: middle;\n",
       "    }\n",
       "\n",
       "    .dataframe tbody tr th {\n",
       "        vertical-align: top;\n",
       "    }\n",
       "\n",
       "    .dataframe thead th {\n",
       "        text-align: right;\n",
       "    }\n",
       "</style>\n",
       "<table border=\"1\" class=\"dataframe\">\n",
       "  <thead>\n",
       "    <tr style=\"text-align: right;\">\n",
       "      <th></th>\n",
       "      <th>pasientNr</th>\n",
       "      <th>henvisningsperiodeID</th>\n",
       "      <th>sluttDato</th>\n",
       "      <th>ansienDato</th>\n",
       "      <th>henvisnigsperiode_varighet</th>\n",
       "      <th>antall_kontakter</th>\n",
       "      <th>episode_varighet</th>\n",
       "      <th>tilst1akse1GrpFirst</th>\n",
       "      <th>tilst1akse1GrpLast</th>\n",
       "      <th>tilst1akse2GrpFirst</th>\n",
       "      <th>tilst1akse2GrpLast</th>\n",
       "      <th>tilst1akse3GrpFirst</th>\n",
       "      <th>tilst1akse3GrpLast</th>\n",
       "      <th>tilst1akse4GrpFirst</th>\n",
       "      <th>tilst1akse4GrpLast</th>\n",
       "      <th>tilst1akse5GrpFirst</th>\n",
       "      <th>tilst1akse5GrpLast</th>\n",
       "      <th>tilst1akse6GrpFirst</th>\n",
       "      <th>tilst1akse6GrpLast</th>\n",
       "      <th>polUtforendeGrp_Lege</th>\n",
       "      <th>polUtforendeGrp_Annet_helsepersonell</th>\n",
       "      <th>polUtforendeGrp_Psykolog</th>\n",
       "      <th>polUtforendeGrp_Sosionom</th>\n",
       "    </tr>\n",
       "  </thead>\n",
       "  <tbody>\n",
       "    <tr>\n",
       "      <th>0</th>\n",
       "      <td>1001395</td>\n",
       "      <td>7386305</td>\n",
       "      <td>2016-06-07</td>\n",
       "      <td>2011-11-17</td>\n",
       "      <td>1664</td>\n",
       "      <td>3</td>\n",
       "      <td>20.0</td>\n",
       "      <td>1999</td>\n",
       "      <td>1999</td>\n",
       "      <td>F80-F89</td>\n",
       "      <td>F80-F89</td>\n",
       "      <td>missing</td>\n",
       "      <td>missing</td>\n",
       "      <td>missing</td>\n",
       "      <td>missing</td>\n",
       "      <td>missing</td>\n",
       "      <td>missing</td>\n",
       "      <td>6999</td>\n",
       "      <td>51-60</td>\n",
       "      <td>0</td>\n",
       "      <td>3</td>\n",
       "      <td>0</td>\n",
       "      <td>0</td>\n",
       "    </tr>\n",
       "    <tr>\n",
       "      <th>1</th>\n",
       "      <td>1623992</td>\n",
       "      <td>7386308</td>\n",
       "      <td>2015-06-24</td>\n",
       "      <td>2011-11-25</td>\n",
       "      <td>1307</td>\n",
       "      <td>1</td>\n",
       "      <td>30.0</td>\n",
       "      <td>F90-F98</td>\n",
       "      <td>F90-F98</td>\n",
       "      <td>2999</td>\n",
       "      <td>2999</td>\n",
       "      <td>3999</td>\n",
       "      <td>3999</td>\n",
       "      <td>andre</td>\n",
       "      <td>andre</td>\n",
       "      <td>Z55-Z65</td>\n",
       "      <td>Z55-Z65</td>\n",
       "      <td>51-60</td>\n",
       "      <td>51-60</td>\n",
       "      <td>0</td>\n",
       "      <td>0</td>\n",
       "      <td>0</td>\n",
       "      <td>1</td>\n",
       "    </tr>\n",
       "    <tr>\n",
       "      <th>2</th>\n",
       "      <td>1582152</td>\n",
       "      <td>7386309</td>\n",
       "      <td>2018-01-04</td>\n",
       "      <td>2011-11-30</td>\n",
       "      <td>2227</td>\n",
       "      <td>1</td>\n",
       "      <td>60.0</td>\n",
       "      <td>F90-F98</td>\n",
       "      <td>F90-F98</td>\n",
       "      <td>F80-F89</td>\n",
       "      <td>F80-F89</td>\n",
       "      <td>F70-F79</td>\n",
       "      <td>F70-F79</td>\n",
       "      <td>missing</td>\n",
       "      <td>missing</td>\n",
       "      <td>Z55-Z65</td>\n",
       "      <td>Z55-Z65</td>\n",
       "      <td>41-50</td>\n",
       "      <td>41-50</td>\n",
       "      <td>0</td>\n",
       "      <td>0</td>\n",
       "      <td>1</td>\n",
       "      <td>0</td>\n",
       "    </tr>\n",
       "    <tr>\n",
       "      <th>3</th>\n",
       "      <td>1350364</td>\n",
       "      <td>7386314</td>\n",
       "      <td>2017-06-20</td>\n",
       "      <td>2011-12-08</td>\n",
       "      <td>2021</td>\n",
       "      <td>1</td>\n",
       "      <td>90.0</td>\n",
       "      <td>F90-F98</td>\n",
       "      <td>F90-F98</td>\n",
       "      <td>missing</td>\n",
       "      <td>missing</td>\n",
       "      <td>missing</td>\n",
       "      <td>missing</td>\n",
       "      <td>missing</td>\n",
       "      <td>missing</td>\n",
       "      <td>missing</td>\n",
       "      <td>missing</td>\n",
       "      <td>6999</td>\n",
       "      <td>6999</td>\n",
       "      <td>0</td>\n",
       "      <td>0</td>\n",
       "      <td>1</td>\n",
       "      <td>0</td>\n",
       "    </tr>\n",
       "    <tr>\n",
       "      <th>4</th>\n",
       "      <td>1791950</td>\n",
       "      <td>7386316</td>\n",
       "      <td>2015-01-28</td>\n",
       "      <td>2011-12-12</td>\n",
       "      <td>1143</td>\n",
       "      <td>1</td>\n",
       "      <td>20.0</td>\n",
       "      <td>F90-F98</td>\n",
       "      <td>F90-F98</td>\n",
       "      <td>2999</td>\n",
       "      <td>2999</td>\n",
       "      <td>3000</td>\n",
       "      <td>3000</td>\n",
       "      <td>4000</td>\n",
       "      <td>4000</td>\n",
       "      <td>Z55-Z65</td>\n",
       "      <td>Z55-Z65</td>\n",
       "      <td>51-60</td>\n",
       "      <td>51-60</td>\n",
       "      <td>0</td>\n",
       "      <td>1</td>\n",
       "      <td>0</td>\n",
       "      <td>0</td>\n",
       "    </tr>\n",
       "  </tbody>\n",
       "</table>\n",
       "</div>"
      ],
      "text/plain": [
       "   pasientNr  henvisningsperiodeID  sluttDato ansienDato  \\\n",
       "0    1001395               7386305 2016-06-07 2011-11-17   \n",
       "1    1623992               7386308 2015-06-24 2011-11-25   \n",
       "2    1582152               7386309 2018-01-04 2011-11-30   \n",
       "3    1350364               7386314 2017-06-20 2011-12-08   \n",
       "4    1791950               7386316 2015-01-28 2011-12-12   \n",
       "\n",
       "   henvisnigsperiode_varighet  antall_kontakter  episode_varighet  \\\n",
       "0                        1664                 3              20.0   \n",
       "1                        1307                 1              30.0   \n",
       "2                        2227                 1              60.0   \n",
       "3                        2021                 1              90.0   \n",
       "4                        1143                 1              20.0   \n",
       "\n",
       "  tilst1akse1GrpFirst tilst1akse1GrpLast tilst1akse2GrpFirst  \\\n",
       "0                1999               1999             F80-F89   \n",
       "1             F90-F98            F90-F98                2999   \n",
       "2             F90-F98            F90-F98             F80-F89   \n",
       "3             F90-F98            F90-F98             missing   \n",
       "4             F90-F98            F90-F98                2999   \n",
       "\n",
       "  tilst1akse2GrpLast tilst1akse3GrpFirst tilst1akse3GrpLast  \\\n",
       "0            F80-F89             missing            missing   \n",
       "1               2999                3999               3999   \n",
       "2            F80-F89             F70-F79            F70-F79   \n",
       "3            missing             missing            missing   \n",
       "4               2999                3000               3000   \n",
       "\n",
       "  tilst1akse4GrpFirst tilst1akse4GrpLast tilst1akse5GrpFirst  \\\n",
       "0             missing            missing             missing   \n",
       "1               andre              andre             Z55-Z65   \n",
       "2             missing            missing             Z55-Z65   \n",
       "3             missing            missing             missing   \n",
       "4                4000               4000             Z55-Z65   \n",
       "\n",
       "  tilst1akse5GrpLast tilst1akse6GrpFirst tilst1akse6GrpLast  \\\n",
       "0            missing                6999              51-60   \n",
       "1            Z55-Z65               51-60              51-60   \n",
       "2            Z55-Z65               41-50              41-50   \n",
       "3            missing                6999               6999   \n",
       "4            Z55-Z65               51-60              51-60   \n",
       "\n",
       "   polUtforendeGrp_Lege  polUtforendeGrp_Annet_helsepersonell  \\\n",
       "0                     0                                     3   \n",
       "1                     0                                     0   \n",
       "2                     0                                     0   \n",
       "3                     0                                     0   \n",
       "4                     0                                     1   \n",
       "\n",
       "   polUtforendeGrp_Psykolog  polUtforendeGrp_Sosionom  \n",
       "0                         0                         0  \n",
       "1                         0                         1  \n",
       "2                         1                         0  \n",
       "3                         1                         0  \n",
       "4                         0                         0  "
      ]
     },
     "execution_count": 239,
     "metadata": {},
     "output_type": "execute_result"
    }
   ],
   "source": [
    "df_henvisningsperiode_t = pd.merge(df_henvisningsperiode_t, df_henvisninger_res, how='left',on=['henvisningsperiodeID'])\n",
    "df_henvisningsperiode_t.head()"
   ]
  },
  {
   "cell_type": "markdown",
   "id": "aa0fa046",
   "metadata": {},
   "source": [
    "### Generate week. month and year from date"
   ]
  },
  {
   "cell_type": "code",
   "execution_count": 240,
   "id": "f8ac7861",
   "metadata": {},
   "outputs": [],
   "source": [
    "#df_episode_t['innDatoTid'] = pd.to_datetime(df_episode_t['utDatoTid']).dt.date\n",
    "#df_episode_t['innDatoTid'] = pd.to_datetime(df_episode_t['utDatoTid']).dt.normalize()\n",
    "\n",
    "\n",
    "#df_episode_t['utDatoTid'] = pd.to_datetime(df_episode_t['utDatoTid']).dt.date\n",
    "#df_episode_t['utDatoTid'] = pd.to_datetime(df_episode_t['utDatoTid']).dt.normalize()"
   ]
  },
  {
   "cell_type": "code",
   "execution_count": 241,
   "id": "bdc1158a",
   "metadata": {},
   "outputs": [],
   "source": [
    "\n",
    "#df_henvisningsperiode_t['ansienDato'] = pd.to_datetime(df_henvisningsperiode_t['ansienDato']).dt.date\n",
    "#df_henvisningsperiode_t['ansienDato'] = pd.to_datetime(df_henvisningsperiode_t['ansienDato']).dt.normalize()\n",
    "\n",
    "#df_henvisningsperiode_t['sluttDato'] = pd.to_datetime(df_henvisningsperiode_t['sluttDato']).dt.date\n",
    "#df_henvisningsperiode_t['sluttDato'] = pd.to_datetime(df_henvisningsperiode_t['sluttDato']).dt.normalize()"
   ]
  },
  {
   "cell_type": "code",
   "execution_count": 242,
   "id": "08c48468",
   "metadata": {},
   "outputs": [],
   "source": [
    "#df_henvisningsperiode_t['ansienDato_aar'] = pd.to_datetime(df_henvisningsperiode_t['ansienDato']).dt.to_period('Y').astype(int)\n",
    "#df_henvisningsperiode_t['ansienDato_maaned'] = pd.to_datetime(df_henvisningsperiode_t['ansienDato']).dt.to_period('M').astype(int)\n",
    "#df_henvisningsperiode_t['ansienDato_uka'] = pd.to_datetime(df_henvisningsperiode_t['ansienDato']).dt.to_period('W').astype(int)\n",
    "\n",
    "#df_henvisningsperiode_t['sluttDato_aar'] = pd.to_datetime(df_henvisningsperiode_t['sluttDato']).dt.to_period('Y').astype(int)\n",
    "#df_henvisningsperiode_t['sluttDato_maaned'] = pd.to_datetime(df_henvisningsperiode_t['sluttDato']).dt.to_period('M').astype(int)\n",
    "#df_henvisningsperiode_t['sluttDato_uka'] = pd.to_datetime(df_henvisningsperiode_t['sluttDato']).dt.to_period('W').astype(int)"
   ]
  },
  {
   "cell_type": "markdown",
   "id": "7b3135df",
   "metadata": {},
   "source": [
    "### group age"
   ]
  },
  {
   "cell_type": "code",
   "execution_count": 243,
   "id": "366e6487",
   "metadata": {},
   "outputs": [
    {
     "data": {
      "text/plain": [
       "<Axes: xlabel='alderGrp'>"
      ]
     },
     "execution_count": 243,
     "metadata": {},
     "output_type": "execute_result"
    },
    {
     "data": {
      "image/png": "[encoded data removed]",
      "text/plain": [
       "<Figure size 640x480 with 1 Axes>"
      ]
     },
     "metadata": {},
     "output_type": "display_data"
    }
   ],
   "source": [
    "bins = [0,13,20,100 ]\n",
    "labels = ['0-12','13-19', '20+']\n",
    "df_pasient_t['alderGrpDesc'] = pd.cut(df_pasient_t.alder, bins, labels = labels,include_lowest = True)\n",
    "labels = ['1','2', '3']\n",
    "df_pasient_t['alderGrp'] = pd.cut(df_pasient_t.alder, bins, labels = labels,include_lowest = True)\n",
    "df_pasient_t['alderGrp'].value_counts().plot(kind='bar')\n",
    "#df_henvisningsperiode_t[\"alderGrp\"] = df_henvisningsperiode_t.alder"
   ]
  },
  {
   "cell_type": "code",
   "execution_count": 244,
   "id": "1a25b001",
   "metadata": {},
   "outputs": [
    {
     "data": {
      "text/plain": [
       "<Axes: xlabel='alderGrp'>"
      ]
     },
     "execution_count": 244,
     "metadata": {},
     "output_type": "execute_result"
    },
    {
     "data": {
      "image/png": "[encoded data removed]",
      "text/plain": [
       "<Figure size 640x480 with 1 Axes>"
      ]
     },
     "metadata": {},
     "output_type": "display_data"
    }
   ],
   "source": [
    "df_pasient_t.alderGrp.value_counts().plot(kind='bar')"
   ]
  },
  {
   "cell_type": "code",
   "execution_count": 245,
   "id": "db89fdaa",
   "metadata": {},
   "outputs": [
    {
     "name": "stdout",
     "output_type": "stream",
     "text": [
      "<class 'pandas.core.frame.DataFrame'>\n",
      "RangeIndex: 6924 entries, 0 to 6923\n",
      "Data columns (total 5 columns):\n",
      " #   Column        Non-Null Count  Dtype   \n",
      "---  ------        --------------  -----   \n",
      " 0   pasientNr     6924 non-null   int64   \n",
      " 1   alder         6924 non-null   int64   \n",
      " 2   kjonn         6924 non-null   object  \n",
      " 3   alderGrpDesc  6924 non-null   category\n",
      " 4   alderGrp      6924 non-null   category\n",
      "dtypes: category(2), int64(2), object(1)\n",
      "memory usage: 176.2+ KB\n"
     ]
    }
   ],
   "source": [
    "df_pasient_t.info()"
   ]
  },
  {
   "cell_type": "markdown",
   "id": "00e53360-e26a-4c5e-a149-6bf252cecd13",
   "metadata": {},
   "source": [
    "### replace Ids and export data Data"
   ]
  },
  {
   "cell_type": "code",
   "execution_count": 246,
   "id": "8b99a457",
   "metadata": {},
   "outputs": [],
   "source": [
    "df_episode_exp = df_episode_t.copy()\n",
    "df_henvisningsperiode_exp =df_henvisningsperiode_t.copy()\n",
    "df_pasient_exp=df_pasient_t.copy()"
   ]
  },
  {
   "cell_type": "markdown",
   "id": "a991ec9d",
   "metadata": {},
   "source": [
    "### Insert Faker Ids"
   ]
  },
  {
   "cell_type": "code",
   "execution_count": 247,
   "id": "1ddf21a1-23ad-4b02-ac59-96226a2c2fa3",
   "metadata": {},
   "outputs": [
    {
     "data": {
      "text/plain": [
       "6924"
      ]
     },
     "execution_count": 247,
     "metadata": {},
     "output_type": "execute_result"
    }
   ],
   "source": [
    "from faker import Faker\n",
    "faker = Faker()\n",
    "Faker.seed(1)\n",
    "\n",
    "dict_Ids = {Id: faker.unique.random_int(min= 0, max= 999999) for Id in df_pasient_exp['pasientNr'].unique()}\n",
    "df_pasient_exp['pasientNr_faker'] = df_pasient_exp['pasientNr'].map(dict_Ids)\n",
    "df_henvisningsperiode_exp['pasientNr_faker'] = df_henvisningsperiode_exp['pasientNr'].map(dict_Ids)\n",
    "\n",
    "#df['pasientNr_faker']=df['pasientNr_faker'].astype('category')\n",
    "num_values = len(set(dict_Ids.values()))\n",
    "num_values\n"
   ]
  },
  {
   "cell_type": "code",
   "execution_count": 248,
   "id": "73afd53f",
   "metadata": {},
   "outputs": [
    {
     "name": "stdout",
     "output_type": "stream",
     "text": [
      "<class 'pandas.core.frame.DataFrame'>\n",
      "RangeIndex: 7730 entries, 0 to 7729\n",
      "Data columns (total 24 columns):\n",
      " #   Column                                Non-Null Count  Dtype         \n",
      "---  ------                                --------------  -----         \n",
      " 0   pasientNr                             7730 non-null   int64         \n",
      " 1   henvisningsperiodeID                  7730 non-null   int64         \n",
      " 2   sluttDato                             7730 non-null   datetime64[ns]\n",
      " 3   ansienDato                            7730 non-null   datetime64[ns]\n",
      " 4   henvisnigsperiode_varighet            7730 non-null   int64         \n",
      " 5   antall_kontakter                      7730 non-null   int64         \n",
      " 6   episode_varighet                      7730 non-null   float64       \n",
      " 7   tilst1akse1GrpFirst                   7730 non-null   object        \n",
      " 8   tilst1akse1GrpLast                    7730 non-null   object        \n",
      " 9   tilst1akse2GrpFirst                   7730 non-null   object        \n",
      " 10  tilst1akse2GrpLast                    7730 non-null   object        \n",
      " 11  tilst1akse3GrpFirst                   7730 non-null   object        \n",
      " 12  tilst1akse3GrpLast                    7730 non-null   object        \n",
      " 13  tilst1akse4GrpFirst                   7730 non-null   object        \n",
      " 14  tilst1akse4GrpLast                    7730 non-null   object        \n",
      " 15  tilst1akse5GrpFirst                   7730 non-null   object        \n",
      " 16  tilst1akse5GrpLast                    7730 non-null   object        \n",
      " 17  tilst1akse6GrpFirst                   7730 non-null   object        \n",
      " 18  tilst1akse6GrpLast                    7730 non-null   object        \n",
      " 19  polUtforendeGrp_Lege                  7730 non-null   int64         \n",
      " 20  polUtforendeGrp_Annet_helsepersonell  7730 non-null   int64         \n",
      " 21  polUtforendeGrp_Psykolog              7730 non-null   int64         \n",
      " 22  polUtforendeGrp_Sosionom              7730 non-null   int64         \n",
      " 23  pasientNr_faker                       7730 non-null   int64         \n",
      "dtypes: datetime64[ns](2), float64(1), int64(9), object(12)\n",
      "memory usage: 1.4+ MB\n"
     ]
    }
   ],
   "source": [
    "df_henvisningsperiode_exp.info()"
   ]
  },
  {
   "cell_type": "code",
   "execution_count": 249,
   "id": "31e8c11d",
   "metadata": {},
   "outputs": [
    {
     "data": {
      "text/plain": [
       "False"
      ]
     },
     "execution_count": 249,
     "metadata": {},
     "output_type": "execute_result"
    }
   ],
   "source": [
    " df_henvisningsperiode_exp['pasientNr_faker'].isnull().values.any()"
   ]
  },
  {
   "cell_type": "code",
   "execution_count": 250,
   "id": "1534280a-9779-4a82-a3e1-f440d92fd354",
   "metadata": {},
   "outputs": [
    {
     "data": {
      "text/plain": [
       "7730"
      ]
     },
     "execution_count": 250,
     "metadata": {},
     "output_type": "execute_result"
    }
   ],
   "source": [
    "\n",
    "dict_Ids = {Id: faker.unique.random_int(min= 0, max= 999999) for Id in df_henvisningsperiode_exp['henvisningsperiodeID'].unique()}\n",
    "df_henvisningsperiode_exp['henvisningsperiodeID_faker'] = df_henvisningsperiode_exp['henvisningsperiodeID'].map(dict_Ids)\n",
    "df_episode_exp['henvisningsperiodeID_faker'] = df_episode_exp['henvisningsperiodeID'].map(dict_Ids)\n",
    "num_values = len(set(dict_Ids.values()))\n",
    "num_values"
   ]
  },
  {
   "cell_type": "code",
   "execution_count": 251,
   "id": "c434eebc",
   "metadata": {},
   "outputs": [
    {
     "data": {
      "text/plain": [
       "7730"
      ]
     },
     "execution_count": 251,
     "metadata": {},
     "output_type": "execute_result"
    }
   ],
   "source": [
    "len(df_henvisningsperiode_exp['henvisningsperiodeID'].unique())"
   ]
  },
  {
   "cell_type": "code",
   "execution_count": 252,
   "id": "737d3725",
   "metadata": {},
   "outputs": [
    {
     "data": {
      "text/plain": [
       "7730"
      ]
     },
     "execution_count": 252,
     "metadata": {},
     "output_type": "execute_result"
    }
   ],
   "source": [
    "len(df_episode_exp['henvisningsperiodeID'].unique())"
   ]
  },
  {
   "cell_type": "code",
   "execution_count": 253,
   "id": "8a844b80-037a-461a-a47c-7e158f7eb3fe",
   "metadata": {},
   "outputs": [
    {
     "data": {
      "text/plain": [
       "73134"
      ]
     },
     "execution_count": 253,
     "metadata": {},
     "output_type": "execute_result"
    }
   ],
   "source": [
    "dict_Ids = {Id: faker.unique.random_int(min= 0, max= 999999) for Id in df_episode_exp['episodeID'].unique()}\n",
    "df_episode_exp['episodeID_faker'] = df_episode_exp['episodeID'].map(dict_Ids)\n",
    "num_values = len(set(dict_Ids.values()))\n",
    "num_values"
   ]
  },
  {
   "cell_type": "code",
   "execution_count": 254,
   "id": "7878c15e",
   "metadata": {},
   "outputs": [
    {
     "data": {
      "text/plain": [
       "[]"
      ]
     },
     "execution_count": 254,
     "metadata": {},
     "output_type": "execute_result"
    }
   ],
   "source": [
    "df_episode_exp[df_episode_exp['henvisningsperiodeID_faker'].isnull()].henvisningsperiodeID.unique().tolist()"
   ]
  },
  {
   "cell_type": "code",
   "execution_count": 255,
   "id": "51b6de48",
   "metadata": {},
   "outputs": [
    {
     "name": "stdout",
     "output_type": "stream",
     "text": [
      "<class 'pandas.core.frame.DataFrame'>\n",
      "RangeIndex: 73134 entries, 0 to 73133\n",
      "Data columns (total 59 columns):\n",
      " #   Column                      Non-Null Count  Dtype         \n",
      "---  ------                      --------------  -----         \n",
      " 0   episode_order               73134 non-null  int64         \n",
      " 1   henvisningsperiodeID        73134 non-null  int64         \n",
      " 2   episodeID                   73134 non-null  int64         \n",
      " 3   innDatoTid                  73134 non-null  datetime64[ns]\n",
      " 4   utDatoTid                   73134 non-null  datetime64[ns]\n",
      " 5   ReshID_Avdeling             73134 non-null  object        \n",
      " 6   ReshID_Seksjon              73134 non-null  object        \n",
      " 7   kontaktType                 73134 non-null  object        \n",
      " 8   polUtforende                73134 non-null  object        \n",
      " 9   spesialist                  73134 non-null  object        \n",
      " 10  rolle                       73134 non-null  object        \n",
      " 11  tilst1akse1                 73134 non-null  object        \n",
      " 12  tilst2akse1                 73134 non-null  object        \n",
      " 13  tilst3akse1                 73134 non-null  object        \n",
      " 14  tilst4akse1                 73134 non-null  object        \n",
      " 15  tilst5akse1                 73134 non-null  object        \n",
      " 16  tilst6akse1                 73134 non-null  object        \n",
      " 17  tilst1akse2                 73134 non-null  object        \n",
      " 18  tilst2akse2                 73134 non-null  object        \n",
      " 19  tilst3akse2                 73134 non-null  object        \n",
      " 20  tilst4akse2                 73134 non-null  object        \n",
      " 21  tilst5akse2                 73134 non-null  object        \n",
      " 22  tilst6akse2                 73134 non-null  object        \n",
      " 23  tilst1akse3                 73134 non-null  object        \n",
      " 24  tilst2akse3                 73134 non-null  object        \n",
      " 25  tilst3akse3                 73134 non-null  object        \n",
      " 26  tilst4akse3                 73134 non-null  object        \n",
      " 27  tilst5akse3                 73134 non-null  object        \n",
      " 28  tilst6akse3                 73134 non-null  object        \n",
      " 29  tilst1akse4                 73134 non-null  object        \n",
      " 30  tilst2akse4                 73134 non-null  object        \n",
      " 31  tilst3akse4                 73134 non-null  object        \n",
      " 32  tilst4akse4                 73134 non-null  object        \n",
      " 33  tilst5akse4                 73134 non-null  object        \n",
      " 34  tilst6akse4                 73134 non-null  object        \n",
      " 35  tilst1akse5                 73134 non-null  object        \n",
      " 36  tilst2akse5                 73134 non-null  object        \n",
      " 37  tilst3akse5                 73134 non-null  object        \n",
      " 38  tilst4akse5                 73134 non-null  object        \n",
      " 39  tilst5akse5                 73134 non-null  object        \n",
      " 40  tilst6akse5                 73134 non-null  object        \n",
      " 41  tilst1akse6                 73134 non-null  int64         \n",
      " 42  tilst2akse6                 73134 non-null  object        \n",
      " 43  tilst3akse6                 73134 non-null  object        \n",
      " 44  tilst4akse6                 73134 non-null  object        \n",
      " 45  tilst5akse6                 73134 non-null  object        \n",
      " 46  tilst6akse6                 73134 non-null  object        \n",
      " 47  episode_varighet            73134 non-null  int64         \n",
      " 48  rolleGrp                    73134 non-null  object        \n",
      " 49  polUtforendeGrp             73134 non-null  object        \n",
      " 50  kontaktTypeGrp              73134 non-null  object        \n",
      " 51  tilst1akse1Grp              73134 non-null  object        \n",
      " 52  tilst1akse2Grp              73134 non-null  object        \n",
      " 53  tilst1akse3Grp              73134 non-null  object        \n",
      " 54  tilst1akse4Grp              73134 non-null  object        \n",
      " 55  tilst1akse5Grp              73134 non-null  object        \n",
      " 56  tilst1akse6Grp              73134 non-null  object        \n",
      " 57  henvisningsperiodeID_faker  73134 non-null  int64         \n",
      " 58  episodeID_faker             73134 non-null  int64         \n",
      "dtypes: datetime64[ns](2), int64(7), object(50)\n",
      "memory usage: 32.9+ MB\n"
     ]
    }
   ],
   "source": [
    "df_episode_exp.info()"
   ]
  },
  {
   "cell_type": "markdown",
   "id": "23d1e97e",
   "metadata": {},
   "source": [
    "### Export to csv"
   ]
  },
  {
   "cell_type": "code",
   "execution_count": 256,
   "id": "4ef5473b-9ea8-4f7b-a312-ccaef6a79859",
   "metadata": {
    "scrolled": true
   },
   "outputs": [
    {
     "data": {
      "text/html": [
       "<div>\n",
       "<style scoped>\n",
       "    .dataframe tbody tr th:only-of-type {\n",
       "        vertical-align: middle;\n",
       "    }\n",
       "\n",
       "    .dataframe tbody tr th {\n",
       "        vertical-align: top;\n",
       "    }\n",
       "\n",
       "    .dataframe thead th {\n",
       "        text-align: right;\n",
       "    }\n",
       "</style>\n",
       "<table border=\"1\" class=\"dataframe\">\n",
       "  <thead>\n",
       "    <tr style=\"text-align: right;\">\n",
       "      <th></th>\n",
       "      <th>episode_order</th>\n",
       "      <th>henvisningsperiodeID</th>\n",
       "      <th>episodeID</th>\n",
       "      <th>innDatoTid</th>\n",
       "      <th>utDatoTid</th>\n",
       "      <th>ReshID_Avdeling</th>\n",
       "      <th>ReshID_Seksjon</th>\n",
       "      <th>kontaktType</th>\n",
       "      <th>polUtforende</th>\n",
       "      <th>spesialist</th>\n",
       "      <th>rolle</th>\n",
       "      <th>tilst1akse1</th>\n",
       "      <th>tilst2akse1</th>\n",
       "      <th>tilst3akse1</th>\n",
       "      <th>tilst4akse1</th>\n",
       "      <th>tilst5akse1</th>\n",
       "      <th>tilst6akse1</th>\n",
       "      <th>tilst1akse2</th>\n",
       "      <th>tilst2akse2</th>\n",
       "      <th>tilst3akse2</th>\n",
       "      <th>tilst4akse2</th>\n",
       "      <th>tilst5akse2</th>\n",
       "      <th>tilst6akse2</th>\n",
       "      <th>tilst1akse3</th>\n",
       "      <th>tilst2akse3</th>\n",
       "      <th>tilst3akse3</th>\n",
       "      <th>tilst4akse3</th>\n",
       "      <th>tilst5akse3</th>\n",
       "      <th>tilst6akse3</th>\n",
       "      <th>tilst1akse4</th>\n",
       "      <th>tilst2akse4</th>\n",
       "      <th>tilst3akse4</th>\n",
       "      <th>tilst4akse4</th>\n",
       "      <th>tilst5akse4</th>\n",
       "      <th>tilst6akse4</th>\n",
       "      <th>tilst1akse5</th>\n",
       "      <th>tilst2akse5</th>\n",
       "      <th>tilst3akse5</th>\n",
       "      <th>tilst4akse5</th>\n",
       "      <th>tilst5akse5</th>\n",
       "      <th>tilst6akse5</th>\n",
       "      <th>tilst1akse6</th>\n",
       "      <th>tilst2akse6</th>\n",
       "      <th>tilst3akse6</th>\n",
       "      <th>tilst4akse6</th>\n",
       "      <th>tilst5akse6</th>\n",
       "      <th>tilst6akse6</th>\n",
       "      <th>episode_varighet</th>\n",
       "      <th>rolleGrp</th>\n",
       "      <th>polUtforendeGrp</th>\n",
       "      <th>kontaktTypeGrp</th>\n",
       "      <th>tilst1akse1Grp</th>\n",
       "      <th>tilst1akse2Grp</th>\n",
       "      <th>tilst1akse3Grp</th>\n",
       "      <th>tilst1akse4Grp</th>\n",
       "      <th>tilst1akse5Grp</th>\n",
       "      <th>tilst1akse6Grp</th>\n",
       "      <th>henvisningsperiodeID_faker</th>\n",
       "      <th>episodeID_faker</th>\n",
       "    </tr>\n",
       "  </thead>\n",
       "  <tbody>\n",
       "    <tr>\n",
       "      <th>0</th>\n",
       "      <td>3</td>\n",
       "      <td>7386582</td>\n",
       "      <td>44491252</td>\n",
       "      <td>2015-04-16 11:00:00</td>\n",
       "      <td>2015-04-16 11:15:00</td>\n",
       "      <td>106917</td>\n",
       "      <td>107010</td>\n",
       "      <td>5</td>\n",
       "      <td>5</td>\n",
       "      <td>Nei</td>\n",
       "      <td>2</td>\n",
       "      <td>F900</td>\n",
       "      <td>1999</td>\n",
       "      <td>F951</td>\n",
       "      <td>missing</td>\n",
       "      <td>missing</td>\n",
       "      <td>missing</td>\n",
       "      <td>2000</td>\n",
       "      <td>missing</td>\n",
       "      <td>missing</td>\n",
       "      <td>missing</td>\n",
       "      <td>missing</td>\n",
       "      <td>missing</td>\n",
       "      <td>3000</td>\n",
       "      <td>missing</td>\n",
       "      <td>missing</td>\n",
       "      <td>missing</td>\n",
       "      <td>missing</td>\n",
       "      <td>missing</td>\n",
       "      <td>4999</td>\n",
       "      <td>missing</td>\n",
       "      <td>missing</td>\n",
       "      <td>missing</td>\n",
       "      <td>missing</td>\n",
       "      <td>missing</td>\n",
       "      <td>5.1</td>\n",
       "      <td>missing</td>\n",
       "      <td>missing</td>\n",
       "      <td>missing</td>\n",
       "      <td>missing</td>\n",
       "      <td>missing</td>\n",
       "      <td>78</td>\n",
       "      <td>missing</td>\n",
       "      <td>missing</td>\n",
       "      <td>missing</td>\n",
       "      <td>missing</td>\n",
       "      <td>missing</td>\n",
       "      <td>15</td>\n",
       "      <td>kontakt</td>\n",
       "      <td>Annet_helsepersonell</td>\n",
       "      <td>Indirekte_pasientkontakt</td>\n",
       "      <td>F90-F98</td>\n",
       "      <td>2000</td>\n",
       "      <td>3000</td>\n",
       "      <td>4999</td>\n",
       "      <td>Z55-Z65</td>\n",
       "      <td>71-80</td>\n",
       "      <td>905040</td>\n",
       "      <td>401317</td>\n",
       "    </tr>\n",
       "    <tr>\n",
       "      <th>1</th>\n",
       "      <td>1</td>\n",
       "      <td>7386587</td>\n",
       "      <td>33158522</td>\n",
       "      <td>2015-01-16 08:15:00</td>\n",
       "      <td>2015-01-16 09:15:00</td>\n",
       "      <td>106917</td>\n",
       "      <td>107005</td>\n",
       "      <td>2</td>\n",
       "      <td>9</td>\n",
       "      <td>Ja</td>\n",
       "      <td>1</td>\n",
       "      <td>F4325</td>\n",
       "      <td>Z004</td>\n",
       "      <td>missing</td>\n",
       "      <td>missing</td>\n",
       "      <td>missing</td>\n",
       "      <td>missing</td>\n",
       "      <td>2000</td>\n",
       "      <td>missing</td>\n",
       "      <td>missing</td>\n",
       "      <td>missing</td>\n",
       "      <td>missing</td>\n",
       "      <td>missing</td>\n",
       "      <td>3000</td>\n",
       "      <td>missing</td>\n",
       "      <td>missing</td>\n",
       "      <td>missing</td>\n",
       "      <td>missing</td>\n",
       "      <td>missing</td>\n",
       "      <td>missing</td>\n",
       "      <td>missing</td>\n",
       "      <td>missing</td>\n",
       "      <td>missing</td>\n",
       "      <td>missing</td>\n",
       "      <td>missing</td>\n",
       "      <td>1.1</td>\n",
       "      <td>8.8</td>\n",
       "      <td>missing</td>\n",
       "      <td>missing</td>\n",
       "      <td>missing</td>\n",
       "      <td>missing</td>\n",
       "      <td>6999</td>\n",
       "      <td>missing</td>\n",
       "      <td>missing</td>\n",
       "      <td>missing</td>\n",
       "      <td>missing</td>\n",
       "      <td>missing</td>\n",
       "      <td>60</td>\n",
       "      <td>Ansvarlig</td>\n",
       "      <td>Sosionom</td>\n",
       "      <td>Behandling</td>\n",
       "      <td>F40-F48</td>\n",
       "      <td>2000</td>\n",
       "      <td>3000</td>\n",
       "      <td>missing</td>\n",
       "      <td>Z55-Z65</td>\n",
       "      <td>6999</td>\n",
       "      <td>408626</td>\n",
       "      <td>178135</td>\n",
       "    </tr>\n",
       "    <tr>\n",
       "      <th>2</th>\n",
       "      <td>2</td>\n",
       "      <td>7386587</td>\n",
       "      <td>33171906</td>\n",
       "      <td>2015-01-16 09:15:00</td>\n",
       "      <td>2015-01-16 09:30:00</td>\n",
       "      <td>106917</td>\n",
       "      <td>107005</td>\n",
       "      <td>2</td>\n",
       "      <td>4</td>\n",
       "      <td>Nei</td>\n",
       "      <td>2</td>\n",
       "      <td>F4325</td>\n",
       "      <td>Z004</td>\n",
       "      <td>missing</td>\n",
       "      <td>missing</td>\n",
       "      <td>missing</td>\n",
       "      <td>missing</td>\n",
       "      <td>2000</td>\n",
       "      <td>missing</td>\n",
       "      <td>missing</td>\n",
       "      <td>missing</td>\n",
       "      <td>missing</td>\n",
       "      <td>missing</td>\n",
       "      <td>3000</td>\n",
       "      <td>missing</td>\n",
       "      <td>missing</td>\n",
       "      <td>missing</td>\n",
       "      <td>missing</td>\n",
       "      <td>missing</td>\n",
       "      <td>missing</td>\n",
       "      <td>missing</td>\n",
       "      <td>missing</td>\n",
       "      <td>missing</td>\n",
       "      <td>missing</td>\n",
       "      <td>missing</td>\n",
       "      <td>1.1</td>\n",
       "      <td>8.8</td>\n",
       "      <td>missing</td>\n",
       "      <td>missing</td>\n",
       "      <td>missing</td>\n",
       "      <td>missing</td>\n",
       "      <td>6999</td>\n",
       "      <td>missing</td>\n",
       "      <td>missing</td>\n",
       "      <td>missing</td>\n",
       "      <td>missing</td>\n",
       "      <td>missing</td>\n",
       "      <td>15</td>\n",
       "      <td>kontakt</td>\n",
       "      <td>Psykolog</td>\n",
       "      <td>Behandling</td>\n",
       "      <td>F40-F48</td>\n",
       "      <td>2000</td>\n",
       "      <td>3000</td>\n",
       "      <td>missing</td>\n",
       "      <td>Z55-Z65</td>\n",
       "      <td>6999</td>\n",
       "      <td>408626</td>\n",
       "      <td>594274</td>\n",
       "    </tr>\n",
       "    <tr>\n",
       "      <th>3</th>\n",
       "      <td>3</td>\n",
       "      <td>7386587</td>\n",
       "      <td>33249432</td>\n",
       "      <td>2015-01-23 08:15:00</td>\n",
       "      <td>2015-01-23 09:00:00</td>\n",
       "      <td>106917</td>\n",
       "      <td>107005</td>\n",
       "      <td>2</td>\n",
       "      <td>4</td>\n",
       "      <td>Nei</td>\n",
       "      <td>2</td>\n",
       "      <td>F4325</td>\n",
       "      <td>Z004</td>\n",
       "      <td>missing</td>\n",
       "      <td>missing</td>\n",
       "      <td>missing</td>\n",
       "      <td>missing</td>\n",
       "      <td>2000</td>\n",
       "      <td>missing</td>\n",
       "      <td>missing</td>\n",
       "      <td>missing</td>\n",
       "      <td>missing</td>\n",
       "      <td>missing</td>\n",
       "      <td>3000</td>\n",
       "      <td>missing</td>\n",
       "      <td>missing</td>\n",
       "      <td>missing</td>\n",
       "      <td>missing</td>\n",
       "      <td>missing</td>\n",
       "      <td>missing</td>\n",
       "      <td>missing</td>\n",
       "      <td>missing</td>\n",
       "      <td>missing</td>\n",
       "      <td>missing</td>\n",
       "      <td>missing</td>\n",
       "      <td>1.1</td>\n",
       "      <td>8.8</td>\n",
       "      <td>missing</td>\n",
       "      <td>missing</td>\n",
       "      <td>missing</td>\n",
       "      <td>missing</td>\n",
       "      <td>6999</td>\n",
       "      <td>missing</td>\n",
       "      <td>missing</td>\n",
       "      <td>missing</td>\n",
       "      <td>missing</td>\n",
       "      <td>missing</td>\n",
       "      <td>45</td>\n",
       "      <td>kontakt</td>\n",
       "      <td>Psykolog</td>\n",
       "      <td>Behandling</td>\n",
       "      <td>F40-F48</td>\n",
       "      <td>2000</td>\n",
       "      <td>3000</td>\n",
       "      <td>missing</td>\n",
       "      <td>Z55-Z65</td>\n",
       "      <td>6999</td>\n",
       "      <td>408626</td>\n",
       "      <td>787619</td>\n",
       "    </tr>\n",
       "    <tr>\n",
       "      <th>4</th>\n",
       "      <td>4</td>\n",
       "      <td>7386587</td>\n",
       "      <td>33252236</td>\n",
       "      <td>2015-01-23 09:15:00</td>\n",
       "      <td>2015-01-23 09:30:00</td>\n",
       "      <td>106917</td>\n",
       "      <td>107005</td>\n",
       "      <td>2</td>\n",
       "      <td>4</td>\n",
       "      <td>Nei</td>\n",
       "      <td>2</td>\n",
       "      <td>F4325</td>\n",
       "      <td>Z004</td>\n",
       "      <td>missing</td>\n",
       "      <td>missing</td>\n",
       "      <td>missing</td>\n",
       "      <td>missing</td>\n",
       "      <td>2000</td>\n",
       "      <td>missing</td>\n",
       "      <td>missing</td>\n",
       "      <td>missing</td>\n",
       "      <td>missing</td>\n",
       "      <td>missing</td>\n",
       "      <td>3000</td>\n",
       "      <td>missing</td>\n",
       "      <td>missing</td>\n",
       "      <td>missing</td>\n",
       "      <td>missing</td>\n",
       "      <td>missing</td>\n",
       "      <td>missing</td>\n",
       "      <td>missing</td>\n",
       "      <td>missing</td>\n",
       "      <td>missing</td>\n",
       "      <td>missing</td>\n",
       "      <td>missing</td>\n",
       "      <td>1.1</td>\n",
       "      <td>8.8</td>\n",
       "      <td>missing</td>\n",
       "      <td>missing</td>\n",
       "      <td>missing</td>\n",
       "      <td>missing</td>\n",
       "      <td>6999</td>\n",
       "      <td>missing</td>\n",
       "      <td>missing</td>\n",
       "      <td>missing</td>\n",
       "      <td>missing</td>\n",
       "      <td>missing</td>\n",
       "      <td>15</td>\n",
       "      <td>kontakt</td>\n",
       "      <td>Psykolog</td>\n",
       "      <td>Behandling</td>\n",
       "      <td>F40-F48</td>\n",
       "      <td>2000</td>\n",
       "      <td>3000</td>\n",
       "      <td>missing</td>\n",
       "      <td>Z55-Z65</td>\n",
       "      <td>6999</td>\n",
       "      <td>408626</td>\n",
       "      <td>681936</td>\n",
       "    </tr>\n",
       "  </tbody>\n",
       "</table>\n",
       "</div>"
      ],
      "text/plain": [
       "   episode_order  henvisningsperiodeID  episodeID          innDatoTid  \\\n",
       "0              3               7386582   44491252 2015-04-16 11:00:00   \n",
       "1              1               7386587   33158522 2015-01-16 08:15:00   \n",
       "2              2               7386587   33171906 2015-01-16 09:15:00   \n",
       "3              3               7386587   33249432 2015-01-23 08:15:00   \n",
       "4              4               7386587   33252236 2015-01-23 09:15:00   \n",
       "\n",
       "            utDatoTid ReshID_Avdeling ReshID_Seksjon kontaktType polUtforende  \\\n",
       "0 2015-04-16 11:15:00          106917         107010           5            5   \n",
       "1 2015-01-16 09:15:00          106917         107005           2            9   \n",
       "2 2015-01-16 09:30:00          106917         107005           2            4   \n",
       "3 2015-01-23 09:00:00          106917         107005           2            4   \n",
       "4 2015-01-23 09:30:00          106917         107005           2            4   \n",
       "\n",
       "  spesialist rolle tilst1akse1 tilst2akse1 tilst3akse1 tilst4akse1  \\\n",
       "0        Nei     2        F900        1999        F951     missing   \n",
       "1         Ja     1       F4325        Z004     missing     missing   \n",
       "2        Nei     2       F4325        Z004     missing     missing   \n",
       "3        Nei     2       F4325        Z004     missing     missing   \n",
       "4        Nei     2       F4325        Z004     missing     missing   \n",
       "\n",
       "  tilst5akse1 tilst6akse1 tilst1akse2 tilst2akse2 tilst3akse2 tilst4akse2  \\\n",
       "0     missing     missing        2000     missing     missing     missing   \n",
       "1     missing     missing        2000     missing     missing     missing   \n",
       "2     missing     missing        2000     missing     missing     missing   \n",
       "3     missing     missing        2000     missing     missing     missing   \n",
       "4     missing     missing        2000     missing     missing     missing   \n",
       "\n",
       "  tilst5akse2 tilst6akse2 tilst1akse3 tilst2akse3 tilst3akse3 tilst4akse3  \\\n",
       "0     missing     missing        3000     missing     missing     missing   \n",
       "1     missing     missing        3000     missing     missing     missing   \n",
       "2     missing     missing        3000     missing     missing     missing   \n",
       "3     missing     missing        3000     missing     missing     missing   \n",
       "4     missing     missing        3000     missing     missing     missing   \n",
       "\n",
       "  tilst5akse3 tilst6akse3 tilst1akse4 tilst2akse4 tilst3akse4 tilst4akse4  \\\n",
       "0     missing     missing        4999     missing     missing     missing   \n",
       "1     missing     missing     missing     missing     missing     missing   \n",
       "2     missing     missing     missing     missing     missing     missing   \n",
       "3     missing     missing     missing     missing     missing     missing   \n",
       "4     missing     missing     missing     missing     missing     missing   \n",
       "\n",
       "  tilst5akse4 tilst6akse4 tilst1akse5 tilst2akse5 tilst3akse5 tilst4akse5  \\\n",
       "0     missing     missing         5.1     missing     missing     missing   \n",
       "1     missing     missing         1.1         8.8     missing     missing   \n",
       "2     missing     missing         1.1         8.8     missing     missing   \n",
       "3     missing     missing         1.1         8.8     missing     missing   \n",
       "4     missing     missing         1.1         8.8     missing     missing   \n",
       "\n",
       "  tilst5akse5 tilst6akse5  tilst1akse6 tilst2akse6 tilst3akse6 tilst4akse6  \\\n",
       "0     missing     missing           78     missing     missing     missing   \n",
       "1     missing     missing         6999     missing     missing     missing   \n",
       "2     missing     missing         6999     missing     missing     missing   \n",
       "3     missing     missing         6999     missing     missing     missing   \n",
       "4     missing     missing         6999     missing     missing     missing   \n",
       "\n",
       "  tilst5akse6 tilst6akse6  episode_varighet   rolleGrp       polUtforendeGrp  \\\n",
       "0     missing     missing                15    kontakt  Annet_helsepersonell   \n",
       "1     missing     missing                60  Ansvarlig              Sosionom   \n",
       "2     missing     missing                15    kontakt              Psykolog   \n",
       "3     missing     missing                45    kontakt              Psykolog   \n",
       "4     missing     missing                15    kontakt              Psykolog   \n",
       "\n",
       "             kontaktTypeGrp tilst1akse1Grp tilst1akse2Grp tilst1akse3Grp  \\\n",
       "0  Indirekte_pasientkontakt        F90-F98           2000           3000   \n",
       "1                Behandling        F40-F48           2000           3000   \n",
       "2                Behandling        F40-F48           2000           3000   \n",
       "3                Behandling        F40-F48           2000           3000   \n",
       "4                Behandling        F40-F48           2000           3000   \n",
       "\n",
       "  tilst1akse4Grp tilst1akse5Grp tilst1akse6Grp  henvisningsperiodeID_faker  \\\n",
       "0           4999        Z55-Z65          71-80                      905040   \n",
       "1        missing        Z55-Z65           6999                      408626   \n",
       "2        missing        Z55-Z65           6999                      408626   \n",
       "3        missing        Z55-Z65           6999                      408626   \n",
       "4        missing        Z55-Z65           6999                      408626   \n",
       "\n",
       "   episodeID_faker  \n",
       "0           401317  \n",
       "1           178135  \n",
       "2           594274  \n",
       "3           787619  \n",
       "4           681936  "
      ]
     },
     "execution_count": 256,
     "metadata": {},
     "output_type": "execute_result"
    }
   ],
   "source": [
    "\n",
    "df_episode_exp.head()"
   ]
  },
  {
   "cell_type": "code",
   "execution_count": 259,
   "id": "bcdd2e0a-84f0-4f44-8d91-bf7cb38e68e7",
   "metadata": {},
   "outputs": [
    {
     "name": "stdout",
     "output_type": "stream",
     "text": [
      "<class 'pandas.core.frame.DataFrame'>\n",
      "RangeIndex: 6924 entries, 0 to 6923\n",
      "Data columns (total 5 columns):\n",
      " #   Column           Non-Null Count  Dtype   \n",
      "---  ------           --------------  -----   \n",
      " 0   pasientNr_faker  6924 non-null   int64   \n",
      " 1   alderGrp         6924 non-null   category\n",
      " 2   alderGrpDesc     6924 non-null   category\n",
      " 3   kjonn            6924 non-null   object  \n",
      " 4   alder            6924 non-null   int64   \n",
      "dtypes: category(2), int64(2), object(1)\n",
      "memory usage: 176.2+ KB\n"
     ]
    }
   ],
   "source": [
    "features =['pasientNr_faker','alderGrp','alderGrpDesc','kjonn','alder']\n",
    "df_pasient_exp[features].to_csv(\"../../data/processed/pasient_transformed.csv\", sep='\\t', encoding='utf-8',index=False) \n",
    "\n",
    "df_pasient_exp[features].rename(columns={\"pasientNr_faker\": \"patientNr\", \"alderGrp\": \"ageGrp\",\"alder\":\"age\",\"alderGrpDesc\": \"ageGrpDesc\",\"kjonn\":\"sex\"}).to_csv(\"../../data/processed/patients_transformed.csv\", sep='\\t', encoding='utf-8',index=False) \n",
    "\n",
    "df_pasient_exp[features].info()"
   ]
  },
  {
   "cell_type": "code",
   "execution_count": 175,
   "id": "7a31b0f0",
   "metadata": {},
   "outputs": [
    {
     "data": {
      "text/plain": [
       "6924"
      ]
     },
     "execution_count": 175,
     "metadata": {},
     "output_type": "execute_result"
    }
   ],
   "source": [
    "paslist = df_pasient_exp.pasientNr.unique().tolist()\n",
    "len(paslist)"
   ]
  },
  {
   "cell_type": "markdown",
   "id": "b9ae3fff",
   "metadata": {},
   "source": [
    "remove referals with referlLenghth =0"
   ]
  },
  {
   "cell_type": "code",
   "execution_count": 176,
   "id": "5116bb55",
   "metadata": {},
   "outputs": [],
   "source": [
    "#df_henvisningsperiode_exp = df_henvisningsperiode_exp[df_henvisningsperiode_exp['henvisnigsperiode_varighet']  > 0]"
   ]
  },
  {
   "cell_type": "code",
   "execution_count": 177,
   "id": "eb9d2ae5",
   "metadata": {},
   "outputs": [
    {
     "name": "stdout",
     "output_type": "stream",
     "text": [
      "<class 'pandas.core.frame.DataFrame'>\n",
      "RangeIndex: 7730 entries, 0 to 7729\n",
      "Data columns (total 25 columns):\n",
      " #   Column                                Non-Null Count  Dtype         \n",
      "---  ------                                --------------  -----         \n",
      " 0   pasientNr                             7730 non-null   int64         \n",
      " 1   henvisningsperiodeID                  7730 non-null   int64         \n",
      " 2   sluttDato                             7730 non-null   datetime64[ns]\n",
      " 3   ansienDato                            7730 non-null   datetime64[ns]\n",
      " 4   henvisnigsperiode_varighet            7730 non-null   int64         \n",
      " 5   antall_kontakter                      7730 non-null   int64         \n",
      " 6   episode_varighet                      7730 non-null   float64       \n",
      " 7   tilst1akse1GrpFirst                   7730 non-null   object        \n",
      " 8   tilst1akse1GrpLast                    7730 non-null   object        \n",
      " 9   tilst1akse2GrpFirst                   7730 non-null   object        \n",
      " 10  tilst1akse2GrpLast                    7730 non-null   object        \n",
      " 11  tilst1akse3GrpFirst                   7730 non-null   object        \n",
      " 12  tilst1akse3GrpLast                    7730 non-null   object        \n",
      " 13  tilst1akse4GrpFirst                   7730 non-null   object        \n",
      " 14  tilst1akse4GrpLast                    7730 non-null   object        \n",
      " 15  tilst1akse5GrpFirst                   7730 non-null   object        \n",
      " 16  tilst1akse5GrpLast                    7730 non-null   object        \n",
      " 17  tilst1akse6GrpFirst                   7730 non-null   object        \n",
      " 18  tilst1akse6GrpLast                    7730 non-null   object        \n",
      " 19  polUtforendeGrp_Lege                  7730 non-null   int64         \n",
      " 20  polUtforendeGrp_Annet_helsepersonell  7730 non-null   int64         \n",
      " 21  polUtforendeGrp_Psykolog              7730 non-null   int64         \n",
      " 22  polUtforendeGrp_Sosionom              7730 non-null   int64         \n",
      " 23  pasientNr_faker                       7730 non-null   int64         \n",
      " 24  henvisningsperiodeID_faker            7730 non-null   int64         \n",
      "dtypes: datetime64[ns](2), float64(1), int64(10), object(12)\n",
      "memory usage: 1.5+ MB\n"
     ]
    }
   ],
   "source": [
    "df_henvisningsperiode_exp.info()"
   ]
  },
  {
   "cell_type": "code",
   "execution_count": 178,
   "id": "41ee88f8-fc26-4119-be55-b01784f08d12",
   "metadata": {},
   "outputs": [
    {
     "name": "stdout",
     "output_type": "stream",
     "text": [
      "<class 'pandas.core.frame.DataFrame'>\n",
      "RangeIndex: 7730 entries, 0 to 7729\n",
      "Data columns (total 8 columns):\n",
      " #   Column                      Non-Null Count  Dtype         \n",
      "---  ------                      --------------  -----         \n",
      " 0   henvisningsperiodeID_faker  7730 non-null   int64         \n",
      " 1   pasientNr_faker             7730 non-null   int64         \n",
      " 2   ansienDato                  7730 non-null   datetime64[ns]\n",
      " 3   sluttDato                   7730 non-null   datetime64[ns]\n",
      " 4   henvisnigsperiode_varighet  7730 non-null   int64         \n",
      " 5   antall_kontakter            7730 non-null   int64         \n",
      " 6   tilst1akse1GrpLast          7730 non-null   object        \n",
      " 7   tilst1akse1GrpFirst         7730 non-null   object        \n",
      "dtypes: datetime64[ns](2), int64(4), object(2)\n",
      "memory usage: 483.2+ KB\n"
     ]
    }
   ],
   "source": [
    "features =['henvisningsperiodeID_faker'  ,'pasientNr_faker'\n",
    "          ,'ansienDato','sluttDato','henvisnigsperiode_varighet','antall_kontakter'\n",
    "               , 'tilst1akse1GrpLast','tilst1akse1GrpFirst'\n",
    "#, 'henvFraInstitusjonID'\n",
    "          ]\n",
    "\n",
    "\n",
    "dict = {\"henvisningsperiodeID_faker\": \"referralID\", \n",
    "     \"pasientNr_faker\": \"patientNr\", \n",
    "       \"ansienDato\":\"referralStartDate\",\n",
    "        \"sluttDato\":\"referralEndDate\",\n",
    "        \"henvisnigsperiode_varighet\":\"referralLength\",\n",
    "        \"antall_kontakter\": \"numOfStays\",\n",
    "        \"tilst1akse1GrpLast\":\"cond1axis1GrpLast\",\n",
    "        \"tilst1akse1GrpFirst\":\"cond1axis1GrpFirst\"\n",
    "       }\n",
    "       \n",
    "       \n",
    "df_henvisningsperiode_exp[features].to_csv(\"../../data/processed/henvisningsperiode_transformed.csv\", sep='\\t',index=False)\n",
    "df_henvisningsperiode_exp[features].rename(columns=dict).to_csv(\"../../data/processed/referrals_transformed.csv\", sep='\\t',index=False)\n",
    "df_henvisningsperiode_exp[features].info()"
   ]
  },
  {
   "cell_type": "code",
   "execution_count": null,
   "id": "765b2d7d-ff69-438f-8091-0e052d2e089a",
   "metadata": {},
   "outputs": [],
   "source": []
  },
  {
   "cell_type": "code",
   "execution_count": 179,
   "id": "8edb3c53-f9c6-47f9-97cc-a3ad3f37529b",
   "metadata": {},
   "outputs": [
    {
     "name": "stdout",
     "output_type": "stream",
     "text": [
      "<class 'pandas.core.frame.DataFrame'>\n",
      "RangeIndex: 73134 entries, 0 to 73133\n",
      "Data columns (total 16 columns):\n",
      " #   Column                      Non-Null Count  Dtype         \n",
      "---  ------                      --------------  -----         \n",
      " 0   henvisningsperiodeID_faker  73134 non-null  int64         \n",
      " 1   episodeID_faker             73134 non-null  int64         \n",
      " 2   episode_order               73134 non-null  int64         \n",
      " 3   innDatoTid                  73134 non-null  datetime64[ns]\n",
      " 4   utDatoTid                   73134 non-null  datetime64[ns]\n",
      " 5   episode_varighet            73134 non-null  int64         \n",
      " 6   polUtforendeGrp             73134 non-null  object        \n",
      " 7   kontaktTypeGrp              73134 non-null  object        \n",
      " 8   spesialist                  73134 non-null  object        \n",
      " 9   rolleGrp                    73134 non-null  object        \n",
      " 10  tilst1akse1Grp              73134 non-null  object        \n",
      " 11  tilst1akse2Grp              73134 non-null  object        \n",
      " 12  tilst1akse3Grp              73134 non-null  object        \n",
      " 13  tilst1akse4Grp              73134 non-null  object        \n",
      " 14  tilst1akse5Grp              73134 non-null  object        \n",
      " 15  tilst1akse6Grp              73134 non-null  object        \n",
      "dtypes: datetime64[ns](2), int64(4), object(10)\n",
      "memory usage: 8.9+ MB\n"
     ]
    }
   ],
   "source": [
    "features =['henvisningsperiodeID_faker', 'episodeID_faker', 'episode_order','innDatoTid','utDatoTid',\n",
    "       'episode_varighet', \n",
    "       'polUtforendeGrp',  'kontaktTypeGrp','spesialist',\n",
    "       'rolleGrp','tilst1akse1Grp','tilst1akse2Grp','tilst1akse3Grp','tilst1akse4Grp','tilst1akse5Grp',\n",
    "           'tilst1akse6Grp'\n",
    "]\n",
    "\n",
    "\n",
    "dict = {\"henvisningsperiodeID_faker\": \"referralID\", \n",
    "        \"episodeID_faker\": \"stayID\",\n",
    "        \"episode_order\":\"stayOrder\",\n",
    "        \"innDatoTid\":\"stayStartDate\",\n",
    "        \"utDatoTid\":\"stayEndDate\",\n",
    "       \"episode_varighet\":\"stayLength\",\n",
    "        \"polUtforendeGrp\":\"personnelGrp\",\n",
    "        \"kontaktTypeGrp\":\"stayTypeGrp\",\n",
    "      \"spesialist\":\"specialist\",\n",
    "        \"rolleGrp\":\"roleGrp\",\n",
    "        \"tilst1akse1Grp\":\"cond1axis1Grp\",\n",
    "        \"tilst1akse2Grp\":\"cond1axis2Grp\",\n",
    "        \"tilst1akse3Grp\":\"cond1axis3Grp\",\n",
    "        \"tilst1akse4Grp\":\"cond1axis4Grp\",\n",
    "        \"tilst1akse5Grp\":\"cond1axis5Grp\",\n",
    "        \"tilst1akse6Grp\":\"cond1axis6Grp\"\n",
    "       }\n",
    "\n",
    "df_episode_exp[features].to_csv(\"../../data/episode_transformed.csv\", sep='\\t',index=False)\n",
    "df_episode_exp[features].rename(columns=dict).to_csv(\"../../data/processed/stays_transformed.csv\", sep='\\t',index=False)\n",
    "df_episode_exp[features].info()"
   ]
  }
 ],
 "metadata": {
  "kernelspec": {
   "display_name": "Python 3 (ipykernel)",
   "language": "python",
   "name": "python3"
  },
  "language_info": {
   "codemirror_mode": {
    "name": "ipython",
    "version": 3
   },
   "file_extension": ".py",
   "mimetype": "text/x-python",
   "name": "python",
   "nbconvert_exporter": "python",
   "pygments_lexer": "ipython3",
   "version": "3.10.13"
  }
 },
 "nbformat": 4,
 "nbformat_minor": 5
}
